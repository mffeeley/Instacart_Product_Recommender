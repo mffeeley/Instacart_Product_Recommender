{
 "cells": [
  {
   "cell_type": "markdown",
   "metadata": {},
   "source": [
    "# Instacart Product Recommender\n",
    "**Michael Feeley**  \n",
    "**Metis Bootcamp - Project 4**"
   ]
  },
  {
   "cell_type": "markdown",
   "metadata": {},
   "source": [
    "**=====================================================================**"
   ]
  },
  {
   "cell_type": "markdown",
   "metadata": {},
   "source": [
    "# Modeling"
   ]
  },
  {
   "cell_type": "markdown",
   "metadata": {},
   "source": [
    "**=====================================================================**"
   ]
  },
  {
   "cell_type": "markdown",
   "metadata": {},
   "source": [
    "### -----------------------"
   ]
  },
  {
   "cell_type": "markdown",
   "metadata": {},
   "source": [
    "## Imports"
   ]
  },
  {
   "cell_type": "markdown",
   "metadata": {},
   "source": [
    "### -----------------------"
   ]
  },
  {
   "cell_type": "code",
   "execution_count": 2,
   "metadata": {
    "ExecuteTime": {
     "end_time": "2020-03-06T04:30:18.453070Z",
     "start_time": "2020-03-06T04:30:18.448877Z"
    }
   },
   "outputs": [],
   "source": [
    "# Loading the data\n",
    "import pickle\n",
    "import os\n",
    "\n",
    "# Obligatory\n",
    "import numpy as np\n",
    "import pandas as pd\n",
    "import matplotlib.pyplot as plt\n",
    "import seaborn as sns\n",
    "\n",
    "# Metrics\n",
    "from sklearn.metrics import confusion_matrix, f1_score, precision_score, recall_score, roc_auc_score\n",
    "\n",
    "# Model tuning\n",
    "import imblearn.over_sampling\n",
    "from sklearn.preprocessing import StandardScaler\n",
    "\n",
    "# Models\n",
    "from sklearn.linear_model import LogisticRegression\n",
    "from sklearn.ensemble import RandomForestClassifier"
   ]
  },
  {
   "cell_type": "code",
   "execution_count": 3,
   "metadata": {
    "ExecuteTime": {
     "end_time": "2020-03-06T04:30:18.485255Z",
     "start_time": "2020-03-06T04:30:18.456592Z"
    }
   },
   "outputs": [],
   "source": [
    "# The path for the repo\n",
    "path = path = \"/\".join(os.getcwd().split('/')[0:-1])\n",
    "\n",
    "# Unpacking the data\n",
    "with open(f'{path}/pickles/df_ml.pkl', 'rb') as file:\n",
    "    df_ml = pickle.load(file)"
   ]
  },
  {
   "cell_type": "markdown",
   "metadata": {},
   "source": [
    "### -----------------------"
   ]
  },
  {
   "cell_type": "markdown",
   "metadata": {},
   "source": [
    "## Metrics"
   ]
  },
  {
   "cell_type": "markdown",
   "metadata": {},
   "source": [
    "### -----------------------"
   ]
  },
  {
   "cell_type": "markdown",
   "metadata": {},
   "source": [
    "### F1, Precision, Recall"
   ]
  },
  {
   "cell_type": "code",
   "execution_count": 4,
   "metadata": {
    "ExecuteTime": {
     "end_time": "2020-03-06T04:30:18.492788Z",
     "start_time": "2020-03-06T04:30:18.487686Z"
    }
   },
   "outputs": [],
   "source": [
    "def score_model(model, X_test, y_test):\n",
    "    '''\n",
    "    Returns the F1, precision, and recall scores for a model.\n",
    "    '''\n",
    "\n",
    "    # F1\n",
    "    f1 = f1_score(y_test, model.predict(X_test))\n",
    "    \n",
    "    # Precision\n",
    "    precision = precision_score(y_test, model.predict(X_test))\n",
    "    \n",
    "    # Recall\n",
    "    recall = recall_score(y_test, model.predict(X_test))\n",
    "    print(f\"{type(model).__name__}\\n\")\n",
    "    print(f\"F1:        {f1}\")\n",
    "    print(f\"Precision: {precision}\")\n",
    "    print(f\"Recall:    {recall}\")\n",
    "    generate_cm(y_test, model.predict(X_test))"
   ]
  },
  {
   "cell_type": "markdown",
   "metadata": {},
   "source": [
    "### Confusion Matrix"
   ]
  },
  {
   "cell_type": "code",
   "execution_count": 5,
   "metadata": {
    "ExecuteTime": {
     "end_time": "2020-03-06T04:30:18.499841Z",
     "start_time": "2020-03-06T04:30:18.495281Z"
    }
   },
   "outputs": [],
   "source": [
    "def generate_cm(y_test, y_preds):\n",
    "    '''\n",
    "    Generates a colorful confusion matrix\n",
    "    given a test set and a prediction set.\n",
    "    '''\n",
    "    \n",
    "    cm = confusion_matrix(y_test, y_preds)\n",
    "    sns.set(font_scale=1.4)\n",
    "    sns.heatmap(\n",
    "        cm,\n",
    "        cmap=plt.cm.Reds,\n",
    "        annot=True,\n",
    "        fmt='.9g',\n",
    "        linewidths=1,\n",
    "        linecolor='black',\n",
    "        cbar=True,\n",
    "        xticklabels=['Not In Next Order\\n\\nPredicted',\n",
    "                     'In Next Order\\n\\nPredicted'],\n",
    "        yticklabels=['Actual\\n\\nNot In Next Order',\n",
    "                     'Actual\\n\\nIn Next Order'],\n",
    "        mask=None,\n",
    "        ax=None,\n",
    "    );"
   ]
  },
  {
   "cell_type": "markdown",
   "metadata": {},
   "source": [
    "### -----------------------"
   ]
  },
  {
   "cell_type": "markdown",
   "metadata": {},
   "source": [
    "## Preprocessing"
   ]
  },
  {
   "cell_type": "markdown",
   "metadata": {},
   "source": [
    "### -----------------------"
   ]
  },
  {
   "cell_type": "markdown",
   "metadata": {},
   "source": [
    "#### Train Test Split"
   ]
  },
  {
   "cell_type": "code",
   "execution_count": 6,
   "metadata": {
    "ExecuteTime": {
     "end_time": "2020-03-06T04:30:18.509787Z",
     "start_time": "2020-03-06T04:30:18.501944Z"
    }
   },
   "outputs": [],
   "source": [
    "def get_train_test_split(df, scale = True, test_size = .2, seed = 42):\n",
    "    '''\n",
    "    Custom train_test split that accounts for user overlap.\n",
    "    No user in the train set will be in the test set.\n",
    "    '''\n",
    "    rs = np.random.RandomState(seed)\n",
    "    \n",
    "    total_users = df['user_id'].unique()\n",
    "    test_users = rs.choice(total_users,\n",
    "                           size = int(total_users.shape[0] * test_size),\n",
    "                           replace = False)\n",
    "    \n",
    "    df_train = df[~df['user_id'].isin(test_users)]\n",
    "    df_test = df[df['user_id'].isin(test_users)]\n",
    "    \n",
    "    y_train, y_test = df_train['TARGET'], df_test['TARGET']\n",
    "    X_train = df_train.drop(['product_id','user_id','TARGET'], axis = 1)\n",
    "    X_test = df_test.drop(['product_id','user_id','TARGET'], axis = 1)\n",
    "    \n",
    "    # Standard scaler\n",
    "    if scale:\n",
    "        # Scale the data\n",
    "        scaler = StandardScaler()\n",
    "        X_train = scaler.fit_transform(X_train)\n",
    "        X_test = scaler.transform(X_test)\n",
    "    \n",
    "    return X_train, X_test, y_train, y_test"
   ]
  },
  {
   "cell_type": "markdown",
   "metadata": {},
   "source": [
    "#### Over Sampler (Class Imbalance)"
   ]
  },
  {
   "cell_type": "code",
   "execution_count": 7,
   "metadata": {
    "ExecuteTime": {
     "end_time": "2020-03-06T04:30:18.517016Z",
     "start_time": "2020-03-06T04:30:18.512005Z"
    }
   },
   "outputs": [],
   "source": [
    "def over_sampler(X_train, y_train, pos_scaler = 1, neg_scaler = 1):\n",
    "    '''\n",
    "    Accounts for a class imbalance in \n",
    "    data by oversampling the negative class.\n",
    "    '''\n",
    "    \n",
    "    # Counts the total number of positive and negative targets\n",
    "    n_pos = np.sum(y_train == 1)\n",
    "    n_neg = np.sum(y_train == 0)\n",
    "    \n",
    "    # Set up the ratio\n",
    "    ratio = {1: n_pos * pos_scaler, 0: n_neg * neg_scaler}\n",
    "    \n",
    "    # Create random sampler object based on the above ratio\n",
    "    ros = imblearn.over_sampling.RandomOverSampler(ratio = ratio, random_state = 42)\n",
    "    \n",
    "    # Generate oversampled data\n",
    "    X_train_os, y_train_os = ros.fit_sample(X_train, y_train)\n",
    "    \n",
    "    # Return oversampled data\n",
    "    return X_train_os, y_train_os"
   ]
  },
  {
   "cell_type": "markdown",
   "metadata": {},
   "source": [
    "### -----------------------"
   ]
  },
  {
   "cell_type": "markdown",
   "metadata": {},
   "source": [
    "## Modeling"
   ]
  },
  {
   "cell_type": "markdown",
   "metadata": {},
   "source": [
    "### -----------------------"
   ]
  },
  {
   "cell_type": "code",
   "execution_count": 8,
   "metadata": {
    "ExecuteTime": {
     "end_time": "2020-03-06T04:30:18.526025Z",
     "start_time": "2020-03-06T04:30:18.521036Z"
    }
   },
   "outputs": [],
   "source": [
    "def random_forest_model(X_train, y_train):\n",
    "    '''\n",
    "    Returns a random forest model for the data.\n",
    "    '''\n",
    "    # Fix the class imbalance\n",
    "    X_train, y_train = over_sampler(X_train, y_train)\n",
    "    \n",
    "    # Create model instance and fit the data\n",
    "    model_rf = RandomForestClassifier(class_weight = {1:4, 0:1})\n",
    "    model_rf.fit(X_train, y_train)\n",
    "    \n",
    "    # Return the fitted model\n",
    "    return model_rf"
   ]
  },
  {
   "cell_type": "code",
   "execution_count": 9,
   "metadata": {
    "ExecuteTime": {
     "end_time": "2020-03-06T04:30:18.533380Z",
     "start_time": "2020-03-06T04:30:18.529841Z"
    }
   },
   "outputs": [],
   "source": [
    "def logistic_regression_model(X_train, y_train):\n",
    "    '''\n",
    "    Returns a logistic regression model for the data.\n",
    "    '''\n",
    "    \n",
    "    # Fix the class imbalance\n",
    "    X_train, y_train = over_sampler(X_train, y_train)\n",
    "    \n",
    "    # Create model instance and fit the data\n",
    "    model_lr = LogisticRegression(class_weight = {1:4, 0:1})\n",
    "    model_lr.fit(X_train, y_train)\n",
    "    \n",
    "    # Return the fitted model\n",
    "    return model_lr"
   ]
  },
  {
   "cell_type": "markdown",
   "metadata": {},
   "source": [
    "### Generate the Logistic Regression and Random Forest Models"
   ]
  },
  {
   "cell_type": "code",
   "execution_count": 11,
   "metadata": {
    "ExecuteTime": {
     "end_time": "2020-03-06T04:30:50.629410Z",
     "start_time": "2020-03-06T04:30:46.476465Z"
    }
   },
   "outputs": [
    {
     "name": "stderr",
     "output_type": "stream",
     "text": [
      "/Users/mffeeley/anaconda3/lib/python3.7/site-packages/sklearn/ensemble/forest.py:245: FutureWarning: The default value of n_estimators will change from 10 in version 0.20 to 100 in 0.22.\n",
      "  \"10 in version 0.20 to 100 in 0.22.\", FutureWarning)\n",
      "/Users/mffeeley/anaconda3/lib/python3.7/site-packages/sklearn/linear_model/logistic.py:432: FutureWarning: Default solver will be changed to 'lbfgs' in 0.22. Specify a solver to silence this warning.\n",
      "  FutureWarning)\n"
     ]
    }
   ],
   "source": [
    "# Train test split of the dataset\n",
    "X_train, X_test, y_train, y_test = get_train_test_split(df_ml)\n",
    "\n",
    "# Fit the data to a random forest model\n",
    "model_rf = random_forest_model(X_train, y_train)\n",
    "\n",
    "# Fit the data to a logistic regression model\n",
    "model_lr = logistic_regression_model(X_train, y_train)"
   ]
  },
  {
   "cell_type": "markdown",
   "metadata": {},
   "source": [
    "### Model Scores"
   ]
  },
  {
   "cell_type": "code",
   "execution_count": 12,
   "metadata": {
    "ExecuteTime": {
     "end_time": "2020-03-06T04:30:52.099826Z",
     "start_time": "2020-03-06T04:30:51.466561Z"
    },
    "cell_style": "split"
   },
   "outputs": [
    {
     "name": "stdout",
     "output_type": "stream",
     "text": [
      "RandomForestClassifier\n",
      "\n",
      "F1:        0.19791248494580488\n",
      "Precision: 0.5393873085339168\n",
      "Recall:    0.12118977384464111\n"
     ]
    },
    {
     "data": {
      "image/png": "[encoded data removed]",
      "text/plain": [
       "<Figure size 432x288 with 2 Axes>"
      ]
     },
     "metadata": {},
     "output_type": "display_data"
    }
   ],
   "source": [
    "score_model(model_rf, X_test, y_test)"
   ]
  },
  {
   "cell_type": "code",
   "execution_count": 13,
   "metadata": {
    "ExecuteTime": {
     "end_time": "2020-03-06T04:30:52.373989Z",
     "start_time": "2020-03-06T04:30:52.101923Z"
    },
    "cell_style": "split"
   },
   "outputs": [
    {
     "name": "stdout",
     "output_type": "stream",
     "text": [
      "LogisticRegression\n",
      "\n",
      "F1:        0.42180312787488505\n",
      "Precision: 0.39628349178910977\n",
      "Recall:    0.45083579154375614\n"
     ]
    },
    {
     "data": {
      "image/png": "[encoded data removed]",
      "text/plain": [
       "<Figure size 432x288 with 2 Axes>"
      ]
     },
     "metadata": {},
     "output_type": "display_data"
    }
   ],
   "source": [
    "score_model(model_lr, X_test, y_test)"
   ]
  },
  {
   "cell_type": "code",
   "execution_count": null,
   "metadata": {},
   "outputs": [],
   "source": []
  }
 ],
 "metadata": {
  "kernelspec": {
   "display_name": "Python 3",
   "language": "python",
   "name": "python3"
  },
  "language_info": {
   "codemirror_mode": {
    "name": "ipython",
    "version": 3
   },
   "file_extension": ".py",
   "mimetype": "text/x-python",
   "name": "python",
   "nbconvert_exporter": "python",
   "pygments_lexer": "ipython3",
   "version": "3.7.3"
  },
  "toc": {
   "base_numbering": 1,
   "nav_menu": {},
   "number_sections": false,
   "sideBar": true,
   "skip_h1_title": false,
   "title_cell": "Table of Contents",
   "title_sidebar": "Contents",
   "toc_cell": false,
   "toc_position": {},
   "toc_section_display": true,
   "toc_window_display": false
  }
 },
 "nbformat": 4,
 "nbformat_minor": 2
}
