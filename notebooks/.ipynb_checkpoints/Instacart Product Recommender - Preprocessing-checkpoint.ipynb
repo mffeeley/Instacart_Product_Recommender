{
 "cells": [
  {
   "cell_type": "markdown",
   "metadata": {},
   "source": [
    "# Instacart Product Recommender\n",
    "**Michael Feeley**  \n",
    "**Metis Bootcamp - Project 4**"
   ]
  },
  {
   "cell_type": "markdown",
   "metadata": {},
   "source": [
    "**===================================================================================================================**"
   ]
  },
  {
   "cell_type": "markdown",
   "metadata": {},
   "source": [
    "# Preprocessing"
   ]
  },
  {
   "cell_type": "markdown",
   "metadata": {},
   "source": [
    "**===================================================================================================================**"
   ]
  },
  {
   "cell_type": "markdown",
   "metadata": {},
   "source": [
    "### -----------------------"
   ]
  },
  {
   "cell_type": "markdown",
   "metadata": {},
   "source": [
    "## Load Data"
   ]
  },
  {
   "cell_type": "markdown",
   "metadata": {},
   "source": [
    "### -----------------------"
   ]
  },
  {
   "cell_type": "markdown",
   "metadata": {},
   "source": [
    "#### Import Modules"
   ]
  },
  {
   "cell_type": "code",
   "execution_count": 1,
   "metadata": {
    "ExecuteTime": {
     "end_time": "2020-03-06T04:00:09.485378Z",
     "start_time": "2020-03-06T04:00:07.987371Z"
    }
   },
   "outputs": [],
   "source": [
    "# EDA\n",
    "import numpy as np\n",
    "import pandas as pd\n",
    "import matplotlib.pyplot as plt\n",
    "import seaborn as sns\n",
    "\n",
    "# Packing data\n",
    "import pickle"
   ]
  },
  {
   "cell_type": "markdown",
   "metadata": {},
   "source": [
    "#### Unpack Data"
   ]
  },
  {
   "cell_type": "code",
   "execution_count": 4,
   "metadata": {
    "ExecuteTime": {
     "end_time": "2020-03-06T04:00:43.101999Z",
     "start_time": "2020-03-06T04:00:43.078529Z"
    }
   },
   "outputs": [
    {
     "ename": "FileNotFoundError",
     "evalue": "[Errno 2] File b'/Users/mffeeley/data/instacart-market-basket-analysis/aisles.csv' does not exist: b'/Users/mffeeley/data/instacart-market-basket-analysis/aisles.csv'",
     "output_type": "error",
     "traceback": [
      "\u001b[0;31m---------------------------------------------------------------------------\u001b[0m",
      "\u001b[0;31mFileNotFoundError\u001b[0m                         Traceback (most recent call last)",
      "\u001b[0;32m<ipython-input-4-ca446a806622>\u001b[0m in \u001b[0;36m<module>\u001b[0;34m\u001b[0m\n\u001b[1;32m      1\u001b[0m \u001b[0;31m# Aisles\u001b[0m\u001b[0;34m\u001b[0m\u001b[0;34m\u001b[0m\u001b[0;34m\u001b[0m\u001b[0m\n\u001b[0;32m----> 2\u001b[0;31m \u001b[0mdf_aisles\u001b[0m \u001b[0;34m=\u001b[0m \u001b[0mpd\u001b[0m\u001b[0;34m.\u001b[0m\u001b[0mread_csv\u001b[0m\u001b[0;34m(\u001b[0m\u001b[0;34m'~/data/instacart-market-basket-analysis/aisles.csv'\u001b[0m\u001b[0;34m)\u001b[0m\u001b[0;34m\u001b[0m\u001b[0;34m\u001b[0m\u001b[0m\n\u001b[0m\u001b[1;32m      3\u001b[0m \u001b[0;34m\u001b[0m\u001b[0m\n\u001b[1;32m      4\u001b[0m \u001b[0;31m# Departments\u001b[0m\u001b[0;34m\u001b[0m\u001b[0;34m\u001b[0m\u001b[0;34m\u001b[0m\u001b[0m\n\u001b[1;32m      5\u001b[0m \u001b[0mdf_departments\u001b[0m \u001b[0;34m=\u001b[0m \u001b[0mpd\u001b[0m\u001b[0;34m.\u001b[0m\u001b[0mread_csv\u001b[0m\u001b[0;34m(\u001b[0m\u001b[0;34m'~/data/instacart-market-basket-analysis/departments.csv'\u001b[0m\u001b[0;34m)\u001b[0m\u001b[0;34m\u001b[0m\u001b[0;34m\u001b[0m\u001b[0m\n",
      "\u001b[0;32m~/anaconda3/lib/python3.7/site-packages/pandas/io/parsers.py\u001b[0m in \u001b[0;36mparser_f\u001b[0;34m(filepath_or_buffer, sep, delimiter, header, names, index_col, usecols, squeeze, prefix, mangle_dupe_cols, dtype, engine, converters, true_values, false_values, skipinitialspace, skiprows, skipfooter, nrows, na_values, keep_default_na, na_filter, verbose, skip_blank_lines, parse_dates, infer_datetime_format, keep_date_col, date_parser, dayfirst, cache_dates, iterator, chunksize, compression, thousands, decimal, lineterminator, quotechar, quoting, doublequote, escapechar, comment, encoding, dialect, error_bad_lines, warn_bad_lines, delim_whitespace, low_memory, memory_map, float_precision)\u001b[0m\n\u001b[1;32m    683\u001b[0m         )\n\u001b[1;32m    684\u001b[0m \u001b[0;34m\u001b[0m\u001b[0m\n\u001b[0;32m--> 685\u001b[0;31m         \u001b[0;32mreturn\u001b[0m \u001b[0m_read\u001b[0m\u001b[0;34m(\u001b[0m\u001b[0mfilepath_or_buffer\u001b[0m\u001b[0;34m,\u001b[0m \u001b[0mkwds\u001b[0m\u001b[0;34m)\u001b[0m\u001b[0;34m\u001b[0m\u001b[0;34m\u001b[0m\u001b[0m\n\u001b[0m\u001b[1;32m    686\u001b[0m \u001b[0;34m\u001b[0m\u001b[0m\n\u001b[1;32m    687\u001b[0m     \u001b[0mparser_f\u001b[0m\u001b[0;34m.\u001b[0m\u001b[0m__name__\u001b[0m \u001b[0;34m=\u001b[0m \u001b[0mname\u001b[0m\u001b[0;34m\u001b[0m\u001b[0;34m\u001b[0m\u001b[0m\n",
      "\u001b[0;32m~/anaconda3/lib/python3.7/site-packages/pandas/io/parsers.py\u001b[0m in \u001b[0;36m_read\u001b[0;34m(filepath_or_buffer, kwds)\u001b[0m\n\u001b[1;32m    455\u001b[0m \u001b[0;34m\u001b[0m\u001b[0m\n\u001b[1;32m    456\u001b[0m     \u001b[0;31m# Create the parser.\u001b[0m\u001b[0;34m\u001b[0m\u001b[0;34m\u001b[0m\u001b[0;34m\u001b[0m\u001b[0m\n\u001b[0;32m--> 457\u001b[0;31m     \u001b[0mparser\u001b[0m \u001b[0;34m=\u001b[0m \u001b[0mTextFileReader\u001b[0m\u001b[0;34m(\u001b[0m\u001b[0mfp_or_buf\u001b[0m\u001b[0;34m,\u001b[0m \u001b[0;34m**\u001b[0m\u001b[0mkwds\u001b[0m\u001b[0;34m)\u001b[0m\u001b[0;34m\u001b[0m\u001b[0;34m\u001b[0m\u001b[0m\n\u001b[0m\u001b[1;32m    458\u001b[0m \u001b[0;34m\u001b[0m\u001b[0m\n\u001b[1;32m    459\u001b[0m     \u001b[0;32mif\u001b[0m \u001b[0mchunksize\u001b[0m \u001b[0;32mor\u001b[0m \u001b[0miterator\u001b[0m\u001b[0;34m:\u001b[0m\u001b[0;34m\u001b[0m\u001b[0;34m\u001b[0m\u001b[0m\n",
      "\u001b[0;32m~/anaconda3/lib/python3.7/site-packages/pandas/io/parsers.py\u001b[0m in \u001b[0;36m__init__\u001b[0;34m(self, f, engine, **kwds)\u001b[0m\n\u001b[1;32m    893\u001b[0m             \u001b[0mself\u001b[0m\u001b[0;34m.\u001b[0m\u001b[0moptions\u001b[0m\u001b[0;34m[\u001b[0m\u001b[0;34m\"has_index_names\"\u001b[0m\u001b[0;34m]\u001b[0m \u001b[0;34m=\u001b[0m \u001b[0mkwds\u001b[0m\u001b[0;34m[\u001b[0m\u001b[0;34m\"has_index_names\"\u001b[0m\u001b[0;34m]\u001b[0m\u001b[0;34m\u001b[0m\u001b[0;34m\u001b[0m\u001b[0m\n\u001b[1;32m    894\u001b[0m \u001b[0;34m\u001b[0m\u001b[0m\n\u001b[0;32m--> 895\u001b[0;31m         \u001b[0mself\u001b[0m\u001b[0;34m.\u001b[0m\u001b[0m_make_engine\u001b[0m\u001b[0;34m(\u001b[0m\u001b[0mself\u001b[0m\u001b[0;34m.\u001b[0m\u001b[0mengine\u001b[0m\u001b[0;34m)\u001b[0m\u001b[0;34m\u001b[0m\u001b[0;34m\u001b[0m\u001b[0m\n\u001b[0m\u001b[1;32m    896\u001b[0m \u001b[0;34m\u001b[0m\u001b[0m\n\u001b[1;32m    897\u001b[0m     \u001b[0;32mdef\u001b[0m \u001b[0mclose\u001b[0m\u001b[0;34m(\u001b[0m\u001b[0mself\u001b[0m\u001b[0;34m)\u001b[0m\u001b[0;34m:\u001b[0m\u001b[0;34m\u001b[0m\u001b[0;34m\u001b[0m\u001b[0m\n",
      "\u001b[0;32m~/anaconda3/lib/python3.7/site-packages/pandas/io/parsers.py\u001b[0m in \u001b[0;36m_make_engine\u001b[0;34m(self, engine)\u001b[0m\n\u001b[1;32m   1133\u001b[0m     \u001b[0;32mdef\u001b[0m \u001b[0m_make_engine\u001b[0m\u001b[0;34m(\u001b[0m\u001b[0mself\u001b[0m\u001b[0;34m,\u001b[0m \u001b[0mengine\u001b[0m\u001b[0;34m=\u001b[0m\u001b[0;34m\"c\"\u001b[0m\u001b[0;34m)\u001b[0m\u001b[0;34m:\u001b[0m\u001b[0;34m\u001b[0m\u001b[0;34m\u001b[0m\u001b[0m\n\u001b[1;32m   1134\u001b[0m         \u001b[0;32mif\u001b[0m \u001b[0mengine\u001b[0m \u001b[0;34m==\u001b[0m \u001b[0;34m\"c\"\u001b[0m\u001b[0;34m:\u001b[0m\u001b[0;34m\u001b[0m\u001b[0;34m\u001b[0m\u001b[0m\n\u001b[0;32m-> 1135\u001b[0;31m             \u001b[0mself\u001b[0m\u001b[0;34m.\u001b[0m\u001b[0m_engine\u001b[0m \u001b[0;34m=\u001b[0m \u001b[0mCParserWrapper\u001b[0m\u001b[0;34m(\u001b[0m\u001b[0mself\u001b[0m\u001b[0;34m.\u001b[0m\u001b[0mf\u001b[0m\u001b[0;34m,\u001b[0m \u001b[0;34m**\u001b[0m\u001b[0mself\u001b[0m\u001b[0;34m.\u001b[0m\u001b[0moptions\u001b[0m\u001b[0;34m)\u001b[0m\u001b[0;34m\u001b[0m\u001b[0;34m\u001b[0m\u001b[0m\n\u001b[0m\u001b[1;32m   1136\u001b[0m         \u001b[0;32melse\u001b[0m\u001b[0;34m:\u001b[0m\u001b[0;34m\u001b[0m\u001b[0;34m\u001b[0m\u001b[0m\n\u001b[1;32m   1137\u001b[0m             \u001b[0;32mif\u001b[0m \u001b[0mengine\u001b[0m \u001b[0;34m==\u001b[0m \u001b[0;34m\"python\"\u001b[0m\u001b[0;34m:\u001b[0m\u001b[0;34m\u001b[0m\u001b[0;34m\u001b[0m\u001b[0m\n",
      "\u001b[0;32m~/anaconda3/lib/python3.7/site-packages/pandas/io/parsers.py\u001b[0m in \u001b[0;36m__init__\u001b[0;34m(self, src, **kwds)\u001b[0m\n\u001b[1;32m   1915\u001b[0m         \u001b[0mkwds\u001b[0m\u001b[0;34m[\u001b[0m\u001b[0;34m\"usecols\"\u001b[0m\u001b[0;34m]\u001b[0m \u001b[0;34m=\u001b[0m \u001b[0mself\u001b[0m\u001b[0;34m.\u001b[0m\u001b[0musecols\u001b[0m\u001b[0;34m\u001b[0m\u001b[0;34m\u001b[0m\u001b[0m\n\u001b[1;32m   1916\u001b[0m \u001b[0;34m\u001b[0m\u001b[0m\n\u001b[0;32m-> 1917\u001b[0;31m         \u001b[0mself\u001b[0m\u001b[0;34m.\u001b[0m\u001b[0m_reader\u001b[0m \u001b[0;34m=\u001b[0m \u001b[0mparsers\u001b[0m\u001b[0;34m.\u001b[0m\u001b[0mTextReader\u001b[0m\u001b[0;34m(\u001b[0m\u001b[0msrc\u001b[0m\u001b[0;34m,\u001b[0m \u001b[0;34m**\u001b[0m\u001b[0mkwds\u001b[0m\u001b[0;34m)\u001b[0m\u001b[0;34m\u001b[0m\u001b[0;34m\u001b[0m\u001b[0m\n\u001b[0m\u001b[1;32m   1918\u001b[0m         \u001b[0mself\u001b[0m\u001b[0;34m.\u001b[0m\u001b[0munnamed_cols\u001b[0m \u001b[0;34m=\u001b[0m \u001b[0mself\u001b[0m\u001b[0;34m.\u001b[0m\u001b[0m_reader\u001b[0m\u001b[0;34m.\u001b[0m\u001b[0munnamed_cols\u001b[0m\u001b[0;34m\u001b[0m\u001b[0;34m\u001b[0m\u001b[0m\n\u001b[1;32m   1919\u001b[0m \u001b[0;34m\u001b[0m\u001b[0m\n",
      "\u001b[0;32mpandas/_libs/parsers.pyx\u001b[0m in \u001b[0;36mpandas._libs.parsers.TextReader.__cinit__\u001b[0;34m()\u001b[0m\n",
      "\u001b[0;32mpandas/_libs/parsers.pyx\u001b[0m in \u001b[0;36mpandas._libs.parsers.TextReader._setup_parser_source\u001b[0;34m()\u001b[0m\n",
      "\u001b[0;31mFileNotFoundError\u001b[0m: [Errno 2] File b'/Users/mffeeley/data/instacart-market-basket-analysis/aisles.csv' does not exist: b'/Users/mffeeley/data/instacart-market-basket-analysis/aisles.csv'"
     ]
    }
   ],
   "source": [
    "path = \"Projects\"\n",
    "\n",
    "# Aisles\n",
    "df_aisles = pd.read_csv(f'~/data/instacart-market-basket-analysis/aisles.csv')\n",
    "\n",
    "# Departments\n",
    "df_departments = pd.read_csv('~/data/instacart-market-basket-analysis/departments.csv')\n",
    "\n",
    "# Details of all customer's prior 30 orders\n",
    "df_prior = pd.read_csv('~/data/instacart-market-basket-analysis/order_products__prior.csv')\n",
    "\n",
    "# Training set containing the most recent carts (next order to predict)\n",
    "df_train = pd.read_csv('~/data/instacart-market-basket-analysis/order_products__train.csv')\n",
    "\n",
    "# Order information\n",
    "df_orders = pd.read_csv('~/data/instacart-market-basket-analysis/orders.csv')\n",
    "\n",
    "# Products\n",
    "df_products = pd.read_csv('~/data/instacart-market-basket-analysis/products.csv')"
   ]
  },
  {
   "cell_type": "markdown",
   "metadata": {},
   "source": [
    "#### Merge the order history with order details"
   ]
  },
  {
   "cell_type": "code",
   "execution_count": null,
   "metadata": {
    "ExecuteTime": {
     "end_time": "2020-03-06T04:00:09.685368Z",
     "start_time": "2020-03-06T04:00:07.992Z"
    }
   },
   "outputs": [],
   "source": [
    "# Merge the order history with additional information\n",
    "df_prior = df_prior.merge(df_orders.drop(columns = ['eval_set']), on = 'order_id')\n",
    "\n",
    "# Merge training set with additional information\n",
    "df_train = df_train.merge(df_orders.drop(columns = ['eval_set']), on = 'order_id')"
   ]
  },
  {
   "cell_type": "markdown",
   "metadata": {},
   "source": [
    "#### Subset train"
   ]
  },
  {
   "cell_type": "code",
   "execution_count": null,
   "metadata": {
    "ExecuteTime": {
     "end_time": "2020-03-06T04:00:09.686797Z",
     "start_time": "2020-03-06T04:00:07.995Z"
    }
   },
   "outputs": [],
   "source": [
    "# Narrow down the scope of the user_id's in the training dataset\n",
    "df_train = df_train[df_train.user_id <= 5000]"
   ]
  },
  {
   "cell_type": "markdown",
   "metadata": {},
   "source": [
    "#### Subset prior"
   ]
  },
  {
   "cell_type": "code",
   "execution_count": null,
   "metadata": {
    "ExecuteTime": {
     "end_time": "2020-03-06T04:00:09.688116Z",
     "start_time": "2020-03-06T04:00:07.997Z"
    }
   },
   "outputs": [],
   "source": [
    "# Filter df_prior to include only user_id's that are in df_train\n",
    "df_prior = df_prior[df_prior['user_id'].isin(df_train['user_id'].unique())]"
   ]
  },
  {
   "cell_type": "markdown",
   "metadata": {},
   "source": [
    "### -----------------------"
   ]
  },
  {
   "cell_type": "markdown",
   "metadata": {},
   "source": [
    "## TARGET"
   ]
  },
  {
   "cell_type": "markdown",
   "metadata": {},
   "source": [
    "### -----------------------"
   ]
  },
  {
   "cell_type": "code",
   "execution_count": null,
   "metadata": {
    "ExecuteTime": {
     "end_time": "2020-03-06T04:00:09.689604Z",
     "start_time": "2020-03-06T04:00:08.000Z"
    }
   },
   "outputs": [],
   "source": [
    "# This will aggregate the dataframe to create a new one with the current cart\n",
    "current_cart = (df_train.groupby('user_id', as_index = False)\n",
    "                .agg({'product_id': (lambda x: set(x))})\n",
    "                .rename(columns = {'product_id': 'current_cart'}))"
   ]
  },
  {
   "cell_type": "code",
   "execution_count": null,
   "metadata": {
    "ExecuteTime": {
     "end_time": "2020-03-06T04:00:09.691063Z",
     "start_time": "2020-03-06T04:00:08.003Z"
    }
   },
   "outputs": [],
   "source": [
    "# Every product ordered for every user\n",
    "df_user_products = df_prior.groupby(['user_id','product_id'], as_index = False).size().reset_index().drop(columns = [0])"
   ]
  },
  {
   "cell_type": "code",
   "execution_count": null,
   "metadata": {
    "ExecuteTime": {
     "end_time": "2020-03-06T04:00:09.694560Z",
     "start_time": "2020-03-06T04:00:08.005Z"
    }
   },
   "outputs": [],
   "source": [
    "# Merge the user_product dataframe with the current cart for each user\n",
    "df_ml = df_user_products.merge(current_cart, on = 'user_id')\n",
    "\n",
    "# Create target variable (product in cart or not in cart)\n",
    "df_ml['TARGET'] = df_ml.apply(lambda row: row['product_id'] in row['current_cart'], axis = 1).astype(int)\n",
    "\n",
    "# Drop the current cart\n",
    "df_ml.drop(columns = ['current_cart'], inplace = True)"
   ]
  },
  {
   "cell_type": "code",
   "execution_count": null,
   "metadata": {
    "ExecuteTime": {
     "end_time": "2020-03-06T04:00:09.696198Z",
     "start_time": "2020-03-06T04:00:08.008Z"
    }
   },
   "outputs": [],
   "source": [
    "def reset_df(df_ml):\n",
    "    '''\n",
    "    Resets df_ml to user_id, product_id, and TARGET.\n",
    "    '''\n",
    "   \n",
    "    # Merge the user_product dataframe with the current cart for each user\n",
    "    df_ml = df_user_products.merge(current_cart, on = 'user_id')\n",
    "\n",
    "    # Create target variable (product in cart or not in cart)\n",
    "    df_ml['TARGET'] = df_ml.apply(lambda row: row['product_id'] in row['current_cart'], axis = 1).astype(int)\n",
    "\n",
    "    # Drop the current cart\n",
    "    df_ml.drop(columns = ['current_cart'], inplace = True)\n",
    "    \n",
    "    # Return the fresh df_ml\n",
    "    return df_ml"
   ]
  },
  {
   "cell_type": "code",
   "execution_count": null,
   "metadata": {
    "ExecuteTime": {
     "end_time": "2020-03-06T04:00:09.697726Z",
     "start_time": "2020-03-06T04:00:08.012Z"
    }
   },
   "outputs": [],
   "source": [
    "df_ml"
   ]
  },
  {
   "cell_type": "code",
   "execution_count": null,
   "metadata": {
    "ExecuteTime": {
     "end_time": "2020-03-06T04:00:09.699000Z",
     "start_time": "2020-03-06T04:00:08.015Z"
    },
    "scrolled": true
   },
   "outputs": [],
   "source": [
    "# Get the percentages of each class (relative frequencies)\n",
    "target_classes = df_ml.TARGET.value_counts(normalize = True)\n",
    "target_classes.plot(kind = 'bar');"
   ]
  },
  {
   "cell_type": "code",
   "execution_count": null,
   "metadata": {
    "ExecuteTime": {
     "end_time": "2020-03-06T04:00:09.700915Z",
     "start_time": "2020-03-06T04:00:08.017Z"
    }
   },
   "outputs": [],
   "source": [
    "# Create function to plot features for analysis\n",
    "def plot_features(df, sample_size = 1000):\n",
    "    \n",
    "    # Takes a sample of 1000 rows and drops irrelevant data (non-influencing)\n",
    "    sample = (df.drop(['user_id','product_id'], axis = 1)\n",
    "                .sample(1000, random_state = 44))\n",
    "    \n",
    "    # Pairplot to display any possible class differentiation strength for the feature\n",
    "    sns.pairplot(sample, hue='TARGET', plot_kws = dict(alpha = .3, edgecolor = 'none'))"
   ]
  },
  {
   "cell_type": "markdown",
   "metadata": {},
   "source": [
    "### -----------------------"
   ]
  },
  {
   "cell_type": "markdown",
   "metadata": {},
   "source": [
    "## Feature Engineering"
   ]
  },
  {
   "cell_type": "markdown",
   "metadata": {},
   "source": [
    "### -----------------------"
   ]
  },
  {
   "cell_type": "markdown",
   "metadata": {},
   "source": [
    "### User Features:\n",
    "* **Total Orders**\n",
    "* **Total Products**\n",
    "* **Average Cartsize**\n",
    "* **Average Days Between Orders**"
   ]
  },
  {
   "cell_type": "code",
   "execution_count": null,
   "metadata": {
    "ExecuteTime": {
     "end_time": "2020-03-06T04:00:09.702721Z",
     "start_time": "2020-03-06T04:00:08.021Z"
    }
   },
   "outputs": [],
   "source": [
    "# Create labels\n",
    "user_feature_labels = ['user_total_prods','user_avg_days_btwn', 'user_total_orders', 'user_avg_cartsize']\n",
    "\n",
    "# Generate the user features\n",
    "df_user_features = (df_prior.groupby('user_id', as_index = False)\n",
    "                    .agg({'product_id':'nunique',\n",
    "                          'days_since_prior_order':'mean',\n",
    "                          'order_id':['nunique', lambda x: x.shape[0] / x.nunique()]}))\n",
    "# Apply labels\n",
    "df_user_features.columns = ['user_id'] + user_feature_labels\n",
    "\n",
    "# Add to machine learning dataframe\n",
    "df_ml = df_ml.merge(df_user_features, on = 'user_id')\n",
    "\n",
    "# Display\n",
    "df_ml.head(3)"
   ]
  },
  {
   "cell_type": "markdown",
   "metadata": {},
   "source": [
    "### Product Features"
   ]
  },
  {
   "cell_type": "code",
   "execution_count": null,
   "metadata": {
    "ExecuteTime": {
     "end_time": "2020-03-06T04:00:09.704271Z",
     "start_time": "2020-03-06T04:00:08.023Z"
    }
   },
   "outputs": [],
   "source": [
    "# Create labels\n",
    "prod_feature_labels = ['prod_total_orders','prod_avg_cart_pos','prod_avg_hour','prod_avg_day']\n",
    "\n",
    "# Generate the product features\n",
    "df_prod_features = (df_prior.groupby('product_id', as_index = False)\n",
    "                    .agg({'order_id':'count',\n",
    "                          'add_to_cart_order':'mean',\n",
    "                          'order_hour_of_day':'mean',\n",
    "                          'order_dow':'mean'}))\n",
    "\n",
    "# Label the product features\n",
    "df_prod_features.columns = ['product_id'] + prod_feature_labels\n",
    "\n",
    "# Merge\n",
    "df_ml = df_ml.merge(df_prod_features, on = 'product_id')"
   ]
  },
  {
   "cell_type": "markdown",
   "metadata": {},
   "source": [
    "### User-Product Features:\n",
    "* **Total Orders**\n",
    "* **Average Day**\n",
    "* **Average Time**\n",
    "* **Avertage Cart Position**\n",
    "* **(...)**"
   ]
  },
  {
   "cell_type": "code",
   "execution_count": null,
   "metadata": {
    "ExecuteTime": {
     "end_time": "2020-03-06T04:00:09.705713Z",
     "start_time": "2020-03-06T04:00:08.026Z"
    }
   },
   "outputs": [],
   "source": [
    "# Create the product feature label\n",
    "user_prod_feature_labels = ['user_prod_total_orders','user_prod_avg_day','user_prod_avg_time','user_prod_avg_cart_position']\n",
    "\n",
    "# Genrate the product feature\n",
    "df_user_prod_features = (df_prior.groupby(['user_id','product_id'], as_index = False)\n",
    "                            .agg({'order_id':'count',\n",
    "                                  'order_dow':'mean',\n",
    "                                  'order_hour_of_day':'mean',\n",
    "                                  'add_to_cart_order':'mean'}))\n",
    "\n",
    "# Label the product feature\n",
    "df_user_prod_features.columns = ['user_id','product_id'] + user_prod_feature_labels\n",
    "\n",
    "# Merge\n",
    "df_ml = df_ml.merge(df_user_prod_features, on = ['user_id','product_id'])"
   ]
  },
  {
   "cell_type": "markdown",
   "metadata": {},
   "source": [
    "* **(...)**\n",
    "* **Order Since Last Ordered**\n",
    "* **(...)**"
   ]
  },
  {
   "cell_type": "code",
   "execution_count": null,
   "metadata": {
    "ExecuteTime": {
     "end_time": "2020-03-06T04:00:09.706999Z",
     "start_time": "2020-03-06T04:00:08.030Z"
    }
   },
   "outputs": [],
   "source": [
    "# Generate feature labels\n",
    "cart_info_features = ['cart']\n",
    "\n",
    "# Generate features\n",
    "df_cart_info = (df_prior.groupby(['user_id','order_number'], as_index = False)\n",
    "                .agg({'product_id':(lambda x: list(x))}))\n",
    "\n",
    "# Label Features\n",
    "df_cart_info.columns = ['user_id','order_number'] + cart_info_features\n",
    "\n",
    "# Every cart for each user in sequential order\n",
    "df_cart_info.head()"
   ]
  },
  {
   "cell_type": "code",
   "execution_count": null,
   "metadata": {
    "ExecuteTime": {
     "end_time": "2020-03-06T04:00:09.708528Z",
     "start_time": "2020-03-06T04:00:08.035Z"
    }
   },
   "outputs": [],
   "source": [
    "# Every product ordered for every user, with their latest cart\n",
    "df_cart_info = df_cart_info.merge(df_user_products, on = 'user_id')\n",
    "df_cart_info.head()"
   ]
  },
  {
   "cell_type": "code",
   "execution_count": null,
   "metadata": {
    "ExecuteTime": {
     "end_time": "2020-03-06T04:00:09.711181Z",
     "start_time": "2020-03-06T04:00:08.038Z"
    }
   },
   "outputs": [],
   "source": [
    "# Product_in_order indicator\n",
    "df_cart_info['prod_in_order'] = df_cart_info.apply(lambda x: int (x['product_id'] in x['cart']), axis = 1)\n",
    "df_cart_info.head()"
   ]
  },
  {
   "cell_type": "code",
   "execution_count": null,
   "metadata": {
    "ExecuteTime": {
     "end_time": "2020-03-06T04:00:09.713155Z",
     "start_time": "2020-03-06T04:00:08.040Z"
    }
   },
   "outputs": [],
   "source": [
    "# List of boolean 1's and 0's to indicate each product's presence in each user's order\n",
    "df_cart_info = (df_cart_info.groupby(['user_id','product_id'], as_index = False)\n",
    "                .agg({'prod_in_order':lambda x: list(x)}))\n",
    "\n",
    "df_cart_info.head()"
   ]
  },
  {
   "cell_type": "code",
   "execution_count": null,
   "metadata": {
    "ExecuteTime": {
     "end_time": "2020-03-06T04:00:09.715203Z",
     "start_time": "2020-03-06T04:00:08.044Z"
    }
   },
   "outputs": [],
   "source": [
    "# How many order since the product was last ordered by the user\n",
    "df_cart_info['orders_since'] = df_cart_info['prod_in_order'].apply(lambda x: x[::-1].index(1))\n",
    "df_cart_info.head()"
   ]
  },
  {
   "cell_type": "code",
   "execution_count": null,
   "metadata": {
    "ExecuteTime": {
     "end_time": "2020-03-06T04:00:09.717227Z",
     "start_time": "2020-03-06T04:00:08.047Z"
    }
   },
   "outputs": [],
   "source": [
    "# Add the orders_since user_product feature to the dataframe\n",
    "df_ml = (df_ml.merge(df_cart_info.drop(columns = ['prod_in_order']), on = ['user_id','product_id']))\n",
    "\n",
    "df_ml.head()"
   ]
  },
  {
   "cell_type": "markdown",
   "metadata": {},
   "source": [
    "* **(...)**\n",
    "* **Order Frequency**"
   ]
  },
  {
   "cell_type": "code",
   "execution_count": null,
   "metadata": {
    "ExecuteTime": {
     "end_time": "2020-03-06T04:00:09.719461Z",
     "start_time": "2020-03-06T04:00:08.049Z"
    }
   },
   "outputs": [],
   "source": [
    "# Divide the total orders with the product by the total orders\n",
    "df_ml['user_prod_order_freq'] = df_ml.user_prod_total_orders / df_ml.user_total_orders"
   ]
  },
  {
   "cell_type": "code",
   "execution_count": null,
   "metadata": {
    "ExecuteTime": {
     "end_time": "2020-03-06T04:00:09.720984Z",
     "start_time": "2020-03-06T04:00:08.053Z"
    }
   },
   "outputs": [],
   "source": [
    "df_ml.head()"
   ]
  },
  {
   "cell_type": "markdown",
   "metadata": {},
   "source": [
    "### Packing the Data"
   ]
  },
  {
   "cell_type": "code",
   "execution_count": null,
   "metadata": {
    "ExecuteTime": {
     "end_time": "2020-03-06T04:00:09.722660Z",
     "start_time": "2020-03-06T04:00:08.055Z"
    }
   },
   "outputs": [],
   "source": [
    "with open(\"pickles/df_ml\", \"wb\") as file:\n",
    "    pickle.dump(df_ml, file)"
   ]
  }
 ],
 "metadata": {
  "kernelspec": {
   "display_name": "Python 3",
   "language": "python",
   "name": "python3"
  },
  "language_info": {
   "codemirror_mode": {
    "name": "ipython",
    "version": 3
   },
   "file_extension": ".py",
   "mimetype": "text/x-python",
   "name": "python",
   "nbconvert_exporter": "python",
   "pygments_lexer": "ipython3",
   "version": "3.7.3"
  },
  "toc": {
   "base_numbering": 1,
   "nav_menu": {},
   "number_sections": false,
   "sideBar": true,
   "skip_h1_title": false,
   "title_cell": "Table of Contents",
   "title_sidebar": "Contents",
   "toc_cell": false,
   "toc_position": {
    "height": "calc(100% - 180px)",
    "left": "10px",
    "top": "150px",
    "width": "165px"
   },
   "toc_section_display": true,
   "toc_window_display": false
  }
 },
 "nbformat": 4,
 "nbformat_minor": 2
}
