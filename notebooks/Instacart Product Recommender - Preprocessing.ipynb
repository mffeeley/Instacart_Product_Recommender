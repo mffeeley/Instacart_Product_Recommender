{
 "cells": [
  {
   "cell_type": "markdown",
   "metadata": {},
   "source": [
    "# Instacart Product Recommender\n",
    "**Michael Feeley**  \n",
    "**Metis Bootcamp - Project 4**"
   ]
  },
  {
   "cell_type": "markdown",
   "metadata": {},
   "source": [
    "**===================================================================================================================**"
   ]
  },
  {
   "cell_type": "markdown",
   "metadata": {},
   "source": [
    "# Preprocessing"
   ]
  },
  {
   "cell_type": "markdown",
   "metadata": {},
   "source": [
    "**===================================================================================================================**"
   ]
  },
  {
   "cell_type": "markdown",
   "metadata": {},
   "source": [
    "### -----------------------"
   ]
  },
  {
   "cell_type": "markdown",
   "metadata": {},
   "source": [
    "## Load Data"
   ]
  },
  {
   "cell_type": "markdown",
   "metadata": {},
   "source": [
    "### -----------------------"
   ]
  },
  {
   "cell_type": "markdown",
   "metadata": {},
   "source": [
    "#### Import Modules"
   ]
  },
  {
   "cell_type": "code",
   "execution_count": 58,
   "metadata": {
    "ExecuteTime": {
     "end_time": "2020-03-06T04:24:18.773543Z",
     "start_time": "2020-03-06T04:24:18.769336Z"
    }
   },
   "outputs": [],
   "source": [
    "# Loading data\n",
    "import os\n",
    "\n",
    "# EDA\n",
    "import numpy as np\n",
    "import pandas as pd\n",
    "import matplotlib.pyplot as plt\n",
    "import seaborn as sns\n",
    "\n",
    "# Packing data\n",
    "import pickle"
   ]
  },
  {
   "cell_type": "markdown",
   "metadata": {},
   "source": [
    "#### Unpack Data"
   ]
  },
  {
   "cell_type": "code",
   "execution_count": 59,
   "metadata": {
    "ExecuteTime": {
     "end_time": "2020-03-06T04:24:27.854550Z",
     "start_time": "2020-03-06T04:24:18.776173Z"
    }
   },
   "outputs": [],
   "source": [
    "# The path for the repo\n",
    "path = path = \"/\".join(os.getcwd().split('/')[0:-1])\n",
    "\n",
    "# Aisles\n",
    "df_aisles = pd.read_csv(f'{path}/data/aisles.csv')\n",
    "\n",
    "# Departments\n",
    "df_departments = pd.read_csv(f'{path}/data/departments.csv')\n",
    "\n",
    "# Details of all customer's prior 30 orders\n",
    "df_prior = pd.read_csv(f'{path}/data/order_products__prior.csv')\n",
    "\n",
    "# Training set containing the most recent carts (next order to predict)\n",
    "df_train = pd.read_csv(f'{path}/data/order_products__train.csv')\n",
    "\n",
    "# Order information\n",
    "df_orders = pd.read_csv(f'{path}/data/orders.csv')\n",
    "\n",
    "# Products\n",
    "df_products = pd.read_csv(f'{path}/data/products.csv')"
   ]
  },
  {
   "cell_type": "markdown",
   "metadata": {},
   "source": [
    "#### Merge the order history with order details"
   ]
  },
  {
   "cell_type": "code",
   "execution_count": 60,
   "metadata": {
    "ExecuteTime": {
     "end_time": "2020-03-06T04:24:37.057605Z",
     "start_time": "2020-03-06T04:24:27.857347Z"
    }
   },
   "outputs": [],
   "source": [
    "# Merge the order history with additional information\n",
    "df_prior = df_prior.merge(df_orders.drop(columns = ['eval_set']), on = 'order_id')\n",
    "\n",
    "# Merge training set with additional information\n",
    "df_train = df_train.merge(df_orders.drop(columns = ['eval_set']), on = 'order_id')"
   ]
  },
  {
   "cell_type": "markdown",
   "metadata": {},
   "source": [
    "#### Subset train"
   ]
  },
  {
   "cell_type": "code",
   "execution_count": 61,
   "metadata": {
    "ExecuteTime": {
     "end_time": "2020-03-06T04:24:37.180795Z",
     "start_time": "2020-03-06T04:24:37.060643Z"
    }
   },
   "outputs": [],
   "source": [
    "# Narrow down the scope of the user_id's in the training dataset\n",
    "df_train = df_train[df_train.user_id <= 5000]"
   ]
  },
  {
   "cell_type": "markdown",
   "metadata": {},
   "source": [
    "#### Subset prior"
   ]
  },
  {
   "cell_type": "code",
   "execution_count": 62,
   "metadata": {
    "ExecuteTime": {
     "end_time": "2020-03-06T04:24:45.773294Z",
     "start_time": "2020-03-06T04:24:37.183055Z"
    }
   },
   "outputs": [],
   "source": [
    "# Filter df_prior to include only user_id's that are in df_train\n",
    "df_prior = df_prior[df_prior['user_id'].isin(df_train['user_id'].unique())]"
   ]
  },
  {
   "cell_type": "markdown",
   "metadata": {},
   "source": [
    "### -----------------------"
   ]
  },
  {
   "cell_type": "markdown",
   "metadata": {},
   "source": [
    "## TARGET"
   ]
  },
  {
   "cell_type": "markdown",
   "metadata": {},
   "source": [
    "### -----------------------"
   ]
  },
  {
   "cell_type": "code",
   "execution_count": 63,
   "metadata": {
    "ExecuteTime": {
     "end_time": "2020-03-06T04:24:45.856305Z",
     "start_time": "2020-03-06T04:24:45.775726Z"
    }
   },
   "outputs": [],
   "source": [
    "# This will aggregate the dataframe to create a new one with the current cart\n",
    "current_cart = (df_train.groupby('user_id', as_index = False)\n",
    "                .agg({'product_id': (lambda x: set(x))})\n",
    "                .rename(columns = {'product_id': 'current_cart'}))"
   ]
  },
  {
   "cell_type": "code",
   "execution_count": 64,
   "metadata": {
    "ExecuteTime": {
     "end_time": "2020-03-06T04:24:45.963092Z",
     "start_time": "2020-03-06T04:24:45.860254Z"
    }
   },
   "outputs": [],
   "source": [
    "# Every product ordered for every user\n",
    "df_user_products = df_prior.groupby(['user_id','product_id'], as_index = False).size().reset_index().drop(columns = [0])"
   ]
  },
  {
   "cell_type": "code",
   "execution_count": 65,
   "metadata": {
    "ExecuteTime": {
     "end_time": "2020-03-06T04:24:50.820774Z",
     "start_time": "2020-03-06T04:24:45.968635Z"
    }
   },
   "outputs": [],
   "source": [
    "# Merge the user_product dataframe with the current cart for each user\n",
    "df_ml = df_user_products.merge(current_cart, on = 'user_id')\n",
    "\n",
    "# Create target variable (product in cart or not in cart)\n",
    "df_ml['TARGET'] = df_ml.apply(lambda row: row['product_id'] in row['current_cart'], axis = 1).astype(int)\n",
    "\n",
    "# Drop the current cart\n",
    "df_ml.drop(columns = ['current_cart'], inplace = True)"
   ]
  },
  {
   "cell_type": "code",
   "execution_count": 66,
   "metadata": {
    "ExecuteTime": {
     "end_time": "2020-03-06T04:24:50.828628Z",
     "start_time": "2020-03-06T04:24:50.823749Z"
    }
   },
   "outputs": [],
   "source": [
    "def reset_df(df_ml):\n",
    "    '''\n",
    "    Resets df_ml to user_id, product_id, and TARGET.\n",
    "    '''\n",
    "   \n",
    "    # Merge the user_product dataframe with the current cart for each user\n",
    "    df_ml = df_user_products.merge(current_cart, on = 'user_id')\n",
    "\n",
    "    # Create target variable (product in cart or not in cart)\n",
    "    df_ml['TARGET'] = df_ml.apply(lambda row: row['product_id'] in row['current_cart'], axis = 1).astype(int)\n",
    "\n",
    "    # Drop the current cart\n",
    "    df_ml.drop(columns = ['current_cart'], inplace = True)\n",
    "    \n",
    "    # Return the fresh df_ml\n",
    "    return df_ml"
   ]
  },
  {
   "cell_type": "code",
   "execution_count": 67,
   "metadata": {
    "ExecuteTime": {
     "end_time": "2020-03-06T04:24:50.840534Z",
     "start_time": "2020-03-06T04:24:50.831075Z"
    }
   },
   "outputs": [
    {
     "data": {
      "text/html": [
       "<div>\n",
       "<style scoped>\n",
       "    .dataframe tbody tr th:only-of-type {\n",
       "        vertical-align: middle;\n",
       "    }\n",
       "\n",
       "    .dataframe tbody tr th {\n",
       "        vertical-align: top;\n",
       "    }\n",
       "\n",
       "    .dataframe thead th {\n",
       "        text-align: right;\n",
       "    }\n",
       "</style>\n",
       "<table border=\"1\" class=\"dataframe\">\n",
       "  <thead>\n",
       "    <tr style=\"text-align: right;\">\n",
       "      <th></th>\n",
       "      <th>user_id</th>\n",
       "      <th>product_id</th>\n",
       "      <th>TARGET</th>\n",
       "    </tr>\n",
       "  </thead>\n",
       "  <tbody>\n",
       "    <tr>\n",
       "      <th>0</th>\n",
       "      <td>1</td>\n",
       "      <td>196</td>\n",
       "      <td>1</td>\n",
       "    </tr>\n",
       "    <tr>\n",
       "      <th>1</th>\n",
       "      <td>1</td>\n",
       "      <td>10258</td>\n",
       "      <td>1</td>\n",
       "    </tr>\n",
       "    <tr>\n",
       "      <th>2</th>\n",
       "      <td>1</td>\n",
       "      <td>10326</td>\n",
       "      <td>0</td>\n",
       "    </tr>\n",
       "    <tr>\n",
       "      <th>3</th>\n",
       "      <td>1</td>\n",
       "      <td>12427</td>\n",
       "      <td>0</td>\n",
       "    </tr>\n",
       "    <tr>\n",
       "      <th>4</th>\n",
       "      <td>1</td>\n",
       "      <td>13032</td>\n",
       "      <td>1</td>\n",
       "    </tr>\n",
       "    <tr>\n",
       "      <th>...</th>\n",
       "      <td>...</td>\n",
       "      <td>...</td>\n",
       "      <td>...</td>\n",
       "    </tr>\n",
       "    <tr>\n",
       "      <th>198539</th>\n",
       "      <td>4999</td>\n",
       "      <td>45570</td>\n",
       "      <td>0</td>\n",
       "    </tr>\n",
       "    <tr>\n",
       "      <th>198540</th>\n",
       "      <td>4999</td>\n",
       "      <td>46979</td>\n",
       "      <td>0</td>\n",
       "    </tr>\n",
       "    <tr>\n",
       "      <th>198541</th>\n",
       "      <td>4999</td>\n",
       "      <td>47209</td>\n",
       "      <td>0</td>\n",
       "    </tr>\n",
       "    <tr>\n",
       "      <th>198542</th>\n",
       "      <td>4999</td>\n",
       "      <td>49260</td>\n",
       "      <td>0</td>\n",
       "    </tr>\n",
       "    <tr>\n",
       "      <th>198543</th>\n",
       "      <td>4999</td>\n",
       "      <td>49683</td>\n",
       "      <td>0</td>\n",
       "    </tr>\n",
       "  </tbody>\n",
       "</table>\n",
       "<p>198544 rows × 3 columns</p>\n",
       "</div>"
      ],
      "text/plain": [
       "        user_id  product_id  TARGET\n",
       "0             1         196       1\n",
       "1             1       10258       1\n",
       "2             1       10326       0\n",
       "3             1       12427       0\n",
       "4             1       13032       1\n",
       "...         ...         ...     ...\n",
       "198539     4999       45570       0\n",
       "198540     4999       46979       0\n",
       "198541     4999       47209       0\n",
       "198542     4999       49260       0\n",
       "198543     4999       49683       0\n",
       "\n",
       "[198544 rows x 3 columns]"
      ]
     },
     "execution_count": 67,
     "metadata": {},
     "output_type": "execute_result"
    }
   ],
   "source": [
    "df_ml"
   ]
  },
  {
   "cell_type": "code",
   "execution_count": 68,
   "metadata": {
    "ExecuteTime": {
     "end_time": "2020-03-06T04:24:50.981321Z",
     "start_time": "2020-03-06T04:24:50.842584Z"
    },
    "scrolled": true
   },
   "outputs": [
    {
     "data": {
      "image/png": "[encoded data removed]",
      "text/plain": [
       "<Figure size 432x288 with 1 Axes>"
      ]
     },
     "metadata": {
      "needs_background": "light"
     },
     "output_type": "display_data"
    }
   ],
   "source": [
    "# Get the percentages of each class (relative frequencies)\n",
    "target_classes = df_ml.TARGET.value_counts(normalize = True)\n",
    "target_classes.plot(kind = 'bar');"
   ]
  },
  {
   "cell_type": "code",
   "execution_count": 69,
   "metadata": {
    "ExecuteTime": {
     "end_time": "2020-03-06T04:24:50.988062Z",
     "start_time": "2020-03-06T04:24:50.983373Z"
    }
   },
   "outputs": [],
   "source": [
    "# Create function to plot features for analysis\n",
    "def plot_features(df, sample_size = 1000):\n",
    "    \n",
    "    # Takes a sample of 1000 rows and drops irrelevant data (non-influencing)\n",
    "    sample = (df.drop(['user_id','product_id'], axis = 1)\n",
    "                .sample(1000, random_state = 44))\n",
    "    \n",
    "    # Pairplot to display any possible class differentiation strength for the feature\n",
    "    sns.pairplot(sample, hue='TARGET', plot_kws = dict(alpha = .3, edgecolor = 'none'))"
   ]
  },
  {
   "cell_type": "markdown",
   "metadata": {},
   "source": [
    "### -----------------------"
   ]
  },
  {
   "cell_type": "markdown",
   "metadata": {},
   "source": [
    "## Feature Engineering"
   ]
  },
  {
   "cell_type": "markdown",
   "metadata": {},
   "source": [
    "### -----------------------"
   ]
  },
  {
   "cell_type": "markdown",
   "metadata": {},
   "source": [
    "### User Features:\n",
    "* **Total Orders**\n",
    "* **Total Products**\n",
    "* **Average Cartsize**\n",
    "* **Average Days Between Orders**"
   ]
  },
  {
   "cell_type": "code",
   "execution_count": 70,
   "metadata": {
    "ExecuteTime": {
     "end_time": "2020-03-06T04:24:51.627038Z",
     "start_time": "2020-03-06T04:24:50.990052Z"
    }
   },
   "outputs": [
    {
     "data": {
      "text/html": [
       "<div>\n",
       "<style scoped>\n",
       "    .dataframe tbody tr th:only-of-type {\n",
       "        vertical-align: middle;\n",
       "    }\n",
       "\n",
       "    .dataframe tbody tr th {\n",
       "        vertical-align: top;\n",
       "    }\n",
       "\n",
       "    .dataframe thead th {\n",
       "        text-align: right;\n",
       "    }\n",
       "</style>\n",
       "<table border=\"1\" class=\"dataframe\">\n",
       "  <thead>\n",
       "    <tr style=\"text-align: right;\">\n",
       "      <th></th>\n",
       "      <th>user_id</th>\n",
       "      <th>product_id</th>\n",
       "      <th>TARGET</th>\n",
       "      <th>user_total_prods</th>\n",
       "      <th>user_avg_days_btwn</th>\n",
       "      <th>user_total_orders</th>\n",
       "      <th>user_avg_cartsize</th>\n",
       "    </tr>\n",
       "  </thead>\n",
       "  <tbody>\n",
       "    <tr>\n",
       "      <th>0</th>\n",
       "      <td>1</td>\n",
       "      <td>196</td>\n",
       "      <td>1</td>\n",
       "      <td>18</td>\n",
       "      <td>20.259259</td>\n",
       "      <td>10</td>\n",
       "      <td>5.9</td>\n",
       "    </tr>\n",
       "    <tr>\n",
       "      <th>1</th>\n",
       "      <td>1</td>\n",
       "      <td>10258</td>\n",
       "      <td>1</td>\n",
       "      <td>18</td>\n",
       "      <td>20.259259</td>\n",
       "      <td>10</td>\n",
       "      <td>5.9</td>\n",
       "    </tr>\n",
       "    <tr>\n",
       "      <th>2</th>\n",
       "      <td>1</td>\n",
       "      <td>10326</td>\n",
       "      <td>0</td>\n",
       "      <td>18</td>\n",
       "      <td>20.259259</td>\n",
       "      <td>10</td>\n",
       "      <td>5.9</td>\n",
       "    </tr>\n",
       "  </tbody>\n",
       "</table>\n",
       "</div>"
      ],
      "text/plain": [
       "   user_id  product_id  TARGET  user_total_prods  user_avg_days_btwn  \\\n",
       "0        1         196       1                18           20.259259   \n",
       "1        1       10258       1                18           20.259259   \n",
       "2        1       10326       0                18           20.259259   \n",
       "\n",
       "   user_total_orders  user_avg_cartsize  \n",
       "0                 10                5.9  \n",
       "1                 10                5.9  \n",
       "2                 10                5.9  "
      ]
     },
     "execution_count": 70,
     "metadata": {},
     "output_type": "execute_result"
    }
   ],
   "source": [
    "# Create labels\n",
    "user_feature_labels = ['user_total_prods','user_avg_days_btwn', 'user_total_orders', 'user_avg_cartsize']\n",
    "\n",
    "# Generate the user features\n",
    "df_user_features = (df_prior.groupby('user_id', as_index = False)\n",
    "                    .agg({'product_id':'nunique',\n",
    "                          'days_since_prior_order':'mean',\n",
    "                          'order_id':['nunique', lambda x: x.shape[0] / x.nunique()]}))\n",
    "# Apply labels\n",
    "df_user_features.columns = ['user_id'] + user_feature_labels\n",
    "\n",
    "# Add to machine learning dataframe\n",
    "df_ml = df_ml.merge(df_user_features, on = 'user_id')\n",
    "\n",
    "# Display\n",
    "df_ml.head(3)"
   ]
  },
  {
   "cell_type": "markdown",
   "metadata": {},
   "source": [
    "### Product Features"
   ]
  },
  {
   "cell_type": "code",
   "execution_count": 71,
   "metadata": {
    "ExecuteTime": {
     "end_time": "2020-03-06T04:24:51.708719Z",
     "start_time": "2020-03-06T04:24:51.629111Z"
    }
   },
   "outputs": [],
   "source": [
    "# Create labels\n",
    "prod_feature_labels = ['prod_total_orders','prod_avg_cart_pos','prod_avg_hour','prod_avg_day']\n",
    "\n",
    "# Generate the product features\n",
    "df_prod_features = (df_prior.groupby('product_id', as_index = False)\n",
    "                    .agg({'order_id':'count',\n",
    "                          'add_to_cart_order':'mean',\n",
    "                          'order_hour_of_day':'mean',\n",
    "                          'order_dow':'mean'}))\n",
    "\n",
    "# Label the product features\n",
    "df_prod_features.columns = ['product_id'] + prod_feature_labels\n",
    "\n",
    "# Merge\n",
    "df_ml = df_ml.merge(df_prod_features, on = 'product_id')"
   ]
  },
  {
   "cell_type": "markdown",
   "metadata": {},
   "source": [
    "### User-Product Features:\n",
    "* **Total Orders**\n",
    "* **Average Day**\n",
    "* **Average Time**\n",
    "* **Avertage Cart Position**\n",
    "* **(...)**"
   ]
  },
  {
   "cell_type": "code",
   "execution_count": 72,
   "metadata": {
    "ExecuteTime": {
     "end_time": "2020-03-06T04:24:51.911921Z",
     "start_time": "2020-03-06T04:24:51.711489Z"
    }
   },
   "outputs": [],
   "source": [
    "# Create the product feature label\n",
    "user_prod_feature_labels = ['user_prod_total_orders','user_prod_avg_day','user_prod_avg_time','user_prod_avg_cart_position']\n",
    "\n",
    "# Genrate the product feature\n",
    "df_user_prod_features = (df_prior.groupby(['user_id','product_id'], as_index = False)\n",
    "                            .agg({'order_id':'count',\n",
    "                                  'order_dow':'mean',\n",
    "                                  'order_hour_of_day':'mean',\n",
    "                                  'add_to_cart_order':'mean'}))\n",
    "\n",
    "# Label the product feature\n",
    "df_user_prod_features.columns = ['user_id','product_id'] + user_prod_feature_labels\n",
    "\n",
    "# Merge\n",
    "df_ml = df_ml.merge(df_user_prod_features, on = ['user_id','product_id'])"
   ]
  },
  {
   "cell_type": "markdown",
   "metadata": {},
   "source": [
    "* **(...)**\n",
    "* **Order Since Last Ordered**\n",
    "* **(...)**"
   ]
  },
  {
   "cell_type": "code",
   "execution_count": 73,
   "metadata": {
    "ExecuteTime": {
     "end_time": "2020-03-06T04:24:56.762083Z",
     "start_time": "2020-03-06T04:24:51.913889Z"
    }
   },
   "outputs": [
    {
     "data": {
      "text/html": [
       "<div>\n",
       "<style scoped>\n",
       "    .dataframe tbody tr th:only-of-type {\n",
       "        vertical-align: middle;\n",
       "    }\n",
       "\n",
       "    .dataframe tbody tr th {\n",
       "        vertical-align: top;\n",
       "    }\n",
       "\n",
       "    .dataframe thead th {\n",
       "        text-align: right;\n",
       "    }\n",
       "</style>\n",
       "<table border=\"1\" class=\"dataframe\">\n",
       "  <thead>\n",
       "    <tr style=\"text-align: right;\">\n",
       "      <th></th>\n",
       "      <th>user_id</th>\n",
       "      <th>order_number</th>\n",
       "      <th>cart</th>\n",
       "    </tr>\n",
       "  </thead>\n",
       "  <tbody>\n",
       "    <tr>\n",
       "      <th>0</th>\n",
       "      <td>1</td>\n",
       "      <td>1</td>\n",
       "      <td>[196, 14084, 12427, 26088, 26405]</td>\n",
       "    </tr>\n",
       "    <tr>\n",
       "      <th>1</th>\n",
       "      <td>1</td>\n",
       "      <td>2</td>\n",
       "      <td>[196, 10258, 12427, 13176, 26088, 13032]</td>\n",
       "    </tr>\n",
       "    <tr>\n",
       "      <th>2</th>\n",
       "      <td>1</td>\n",
       "      <td>3</td>\n",
       "      <td>[196, 12427, 10258, 25133, 30450]</td>\n",
       "    </tr>\n",
       "    <tr>\n",
       "      <th>3</th>\n",
       "      <td>1</td>\n",
       "      <td>4</td>\n",
       "      <td>[196, 12427, 10258, 25133, 26405]</td>\n",
       "    </tr>\n",
       "    <tr>\n",
       "      <th>4</th>\n",
       "      <td>1</td>\n",
       "      <td>5</td>\n",
       "      <td>[196, 12427, 10258, 25133, 10326, 17122, 41787...</td>\n",
       "    </tr>\n",
       "  </tbody>\n",
       "</table>\n",
       "</div>"
      ],
      "text/plain": [
       "   user_id  order_number                                               cart\n",
       "0        1             1                  [196, 14084, 12427, 26088, 26405]\n",
       "1        1             2           [196, 10258, 12427, 13176, 26088, 13032]\n",
       "2        1             3                  [196, 12427, 10258, 25133, 30450]\n",
       "3        1             4                  [196, 12427, 10258, 25133, 26405]\n",
       "4        1             5  [196, 12427, 10258, 25133, 10326, 17122, 41787..."
      ]
     },
     "execution_count": 73,
     "metadata": {},
     "output_type": "execute_result"
    }
   ],
   "source": [
    "# Generate feature labels\n",
    "cart_info_features = ['cart']\n",
    "\n",
    "# Generate features\n",
    "df_cart_info = (df_prior.groupby(['user_id','order_number'], as_index = False)\n",
    "                .agg({'product_id':(lambda x: list(x))}))\n",
    "\n",
    "# Label Features\n",
    "df_cart_info.columns = ['user_id','order_number'] + cart_info_features\n",
    "\n",
    "# Every cart for each user in sequential order\n",
    "df_cart_info.head()"
   ]
  },
  {
   "cell_type": "code",
   "execution_count": 74,
   "metadata": {
    "ExecuteTime": {
     "end_time": "2020-03-06T04:24:57.096055Z",
     "start_time": "2020-03-06T04:24:56.763980Z"
    }
   },
   "outputs": [
    {
     "data": {
      "text/html": [
       "<div>\n",
       "<style scoped>\n",
       "    .dataframe tbody tr th:only-of-type {\n",
       "        vertical-align: middle;\n",
       "    }\n",
       "\n",
       "    .dataframe tbody tr th {\n",
       "        vertical-align: top;\n",
       "    }\n",
       "\n",
       "    .dataframe thead th {\n",
       "        text-align: right;\n",
       "    }\n",
       "</style>\n",
       "<table border=\"1\" class=\"dataframe\">\n",
       "  <thead>\n",
       "    <tr style=\"text-align: right;\">\n",
       "      <th></th>\n",
       "      <th>user_id</th>\n",
       "      <th>order_number</th>\n",
       "      <th>cart</th>\n",
       "      <th>product_id</th>\n",
       "    </tr>\n",
       "  </thead>\n",
       "  <tbody>\n",
       "    <tr>\n",
       "      <th>0</th>\n",
       "      <td>1</td>\n",
       "      <td>1</td>\n",
       "      <td>[196, 14084, 12427, 26088, 26405]</td>\n",
       "      <td>196</td>\n",
       "    </tr>\n",
       "    <tr>\n",
       "      <th>1</th>\n",
       "      <td>1</td>\n",
       "      <td>1</td>\n",
       "      <td>[196, 14084, 12427, 26088, 26405]</td>\n",
       "      <td>10258</td>\n",
       "    </tr>\n",
       "    <tr>\n",
       "      <th>2</th>\n",
       "      <td>1</td>\n",
       "      <td>1</td>\n",
       "      <td>[196, 14084, 12427, 26088, 26405]</td>\n",
       "      <td>10326</td>\n",
       "    </tr>\n",
       "    <tr>\n",
       "      <th>3</th>\n",
       "      <td>1</td>\n",
       "      <td>1</td>\n",
       "      <td>[196, 14084, 12427, 26088, 26405]</td>\n",
       "      <td>12427</td>\n",
       "    </tr>\n",
       "    <tr>\n",
       "      <th>4</th>\n",
       "      <td>1</td>\n",
       "      <td>1</td>\n",
       "      <td>[196, 14084, 12427, 26088, 26405]</td>\n",
       "      <td>13032</td>\n",
       "    </tr>\n",
       "  </tbody>\n",
       "</table>\n",
       "</div>"
      ],
      "text/plain": [
       "   user_id  order_number                               cart  product_id\n",
       "0        1             1  [196, 14084, 12427, 26088, 26405]         196\n",
       "1        1             1  [196, 14084, 12427, 26088, 26405]       10258\n",
       "2        1             1  [196, 14084, 12427, 26088, 26405]       10326\n",
       "3        1             1  [196, 14084, 12427, 26088, 26405]       12427\n",
       "4        1             1  [196, 14084, 12427, 26088, 26405]       13032"
      ]
     },
     "execution_count": 74,
     "metadata": {},
     "output_type": "execute_result"
    }
   ],
   "source": [
    "# Every product ordered for every user, with their latest cart\n",
    "df_cart_info = df_cart_info.merge(df_user_products, on = 'user_id')\n",
    "df_cart_info.head()"
   ]
  },
  {
   "cell_type": "code",
   "execution_count": 75,
   "metadata": {
    "ExecuteTime": {
     "end_time": "2020-03-06T04:26:57.445435Z",
     "start_time": "2020-03-06T04:24:57.098107Z"
    }
   },
   "outputs": [
    {
     "data": {
      "text/html": [
       "<div>\n",
       "<style scoped>\n",
       "    .dataframe tbody tr th:only-of-type {\n",
       "        vertical-align: middle;\n",
       "    }\n",
       "\n",
       "    .dataframe tbody tr th {\n",
       "        vertical-align: top;\n",
       "    }\n",
       "\n",
       "    .dataframe thead th {\n",
       "        text-align: right;\n",
       "    }\n",
       "</style>\n",
       "<table border=\"1\" class=\"dataframe\">\n",
       "  <thead>\n",
       "    <tr style=\"text-align: right;\">\n",
       "      <th></th>\n",
       "      <th>user_id</th>\n",
       "      <th>order_number</th>\n",
       "      <th>cart</th>\n",
       "      <th>product_id</th>\n",
       "      <th>prod_in_order</th>\n",
       "    </tr>\n",
       "  </thead>\n",
       "  <tbody>\n",
       "    <tr>\n",
       "      <th>0</th>\n",
       "      <td>1</td>\n",
       "      <td>1</td>\n",
       "      <td>[196, 14084, 12427, 26088, 26405]</td>\n",
       "      <td>196</td>\n",
       "      <td>1</td>\n",
       "    </tr>\n",
       "    <tr>\n",
       "      <th>1</th>\n",
       "      <td>1</td>\n",
       "      <td>1</td>\n",
       "      <td>[196, 14084, 12427, 26088, 26405]</td>\n",
       "      <td>10258</td>\n",
       "      <td>0</td>\n",
       "    </tr>\n",
       "    <tr>\n",
       "      <th>2</th>\n",
       "      <td>1</td>\n",
       "      <td>1</td>\n",
       "      <td>[196, 14084, 12427, 26088, 26405]</td>\n",
       "      <td>10326</td>\n",
       "      <td>0</td>\n",
       "    </tr>\n",
       "    <tr>\n",
       "      <th>3</th>\n",
       "      <td>1</td>\n",
       "      <td>1</td>\n",
       "      <td>[196, 14084, 12427, 26088, 26405]</td>\n",
       "      <td>12427</td>\n",
       "      <td>1</td>\n",
       "    </tr>\n",
       "    <tr>\n",
       "      <th>4</th>\n",
       "      <td>1</td>\n",
       "      <td>1</td>\n",
       "      <td>[196, 14084, 12427, 26088, 26405]</td>\n",
       "      <td>13032</td>\n",
       "      <td>0</td>\n",
       "    </tr>\n",
       "  </tbody>\n",
       "</table>\n",
       "</div>"
      ],
      "text/plain": [
       "   user_id  order_number                               cart  product_id  \\\n",
       "0        1             1  [196, 14084, 12427, 26088, 26405]         196   \n",
       "1        1             1  [196, 14084, 12427, 26088, 26405]       10258   \n",
       "2        1             1  [196, 14084, 12427, 26088, 26405]       10326   \n",
       "3        1             1  [196, 14084, 12427, 26088, 26405]       12427   \n",
       "4        1             1  [196, 14084, 12427, 26088, 26405]       13032   \n",
       "\n",
       "   prod_in_order  \n",
       "0              1  \n",
       "1              0  \n",
       "2              0  \n",
       "3              1  \n",
       "4              0  "
      ]
     },
     "execution_count": 75,
     "metadata": {},
     "output_type": "execute_result"
    }
   ],
   "source": [
    "# Product_in_order indicator\n",
    "df_cart_info['prod_in_order'] = df_cart_info.apply(lambda x: int (x['product_id'] in x['cart']), axis = 1)\n",
    "df_cart_info.head()"
   ]
  },
  {
   "cell_type": "code",
   "execution_count": 76,
   "metadata": {
    "ExecuteTime": {
     "end_time": "2020-03-06T04:27:16.851802Z",
     "start_time": "2020-03-06T04:26:57.451294Z"
    }
   },
   "outputs": [
    {
     "data": {
      "text/html": [
       "<div>\n",
       "<style scoped>\n",
       "    .dataframe tbody tr th:only-of-type {\n",
       "        vertical-align: middle;\n",
       "    }\n",
       "\n",
       "    .dataframe tbody tr th {\n",
       "        vertical-align: top;\n",
       "    }\n",
       "\n",
       "    .dataframe thead th {\n",
       "        text-align: right;\n",
       "    }\n",
       "</style>\n",
       "<table border=\"1\" class=\"dataframe\">\n",
       "  <thead>\n",
       "    <tr style=\"text-align: right;\">\n",
       "      <th></th>\n",
       "      <th>user_id</th>\n",
       "      <th>product_id</th>\n",
       "      <th>prod_in_order</th>\n",
       "    </tr>\n",
       "  </thead>\n",
       "  <tbody>\n",
       "    <tr>\n",
       "      <th>0</th>\n",
       "      <td>1</td>\n",
       "      <td>196</td>\n",
       "      <td>[1, 1, 1, 1, 1, 1, 1, 1, 1, 1]</td>\n",
       "    </tr>\n",
       "    <tr>\n",
       "      <th>1</th>\n",
       "      <td>1</td>\n",
       "      <td>10258</td>\n",
       "      <td>[0, 1, 1, 1, 1, 1, 1, 1, 1, 1]</td>\n",
       "    </tr>\n",
       "    <tr>\n",
       "      <th>2</th>\n",
       "      <td>1</td>\n",
       "      <td>10326</td>\n",
       "      <td>[0, 0, 0, 0, 1, 0, 0, 0, 0, 0]</td>\n",
       "    </tr>\n",
       "    <tr>\n",
       "      <th>3</th>\n",
       "      <td>1</td>\n",
       "      <td>12427</td>\n",
       "      <td>[1, 1, 1, 1, 1, 1, 1, 1, 1, 1]</td>\n",
       "    </tr>\n",
       "    <tr>\n",
       "      <th>4</th>\n",
       "      <td>1</td>\n",
       "      <td>13032</td>\n",
       "      <td>[0, 1, 0, 0, 0, 0, 1, 0, 0, 1]</td>\n",
       "    </tr>\n",
       "  </tbody>\n",
       "</table>\n",
       "</div>"
      ],
      "text/plain": [
       "   user_id  product_id                   prod_in_order\n",
       "0        1         196  [1, 1, 1, 1, 1, 1, 1, 1, 1, 1]\n",
       "1        1       10258  [0, 1, 1, 1, 1, 1, 1, 1, 1, 1]\n",
       "2        1       10326  [0, 0, 0, 0, 1, 0, 0, 0, 0, 0]\n",
       "3        1       12427  [1, 1, 1, 1, 1, 1, 1, 1, 1, 1]\n",
       "4        1       13032  [0, 1, 0, 0, 0, 0, 1, 0, 0, 1]"
      ]
     },
     "execution_count": 76,
     "metadata": {},
     "output_type": "execute_result"
    }
   ],
   "source": [
    "# List of boolean 1's and 0's to indicate each product's presence in each user's order\n",
    "df_cart_info = (df_cart_info.groupby(['user_id','product_id'], as_index = False)\n",
    "                .agg({'prod_in_order':lambda x: list(x)}))\n",
    "\n",
    "df_cart_info.head()"
   ]
  },
  {
   "cell_type": "code",
   "execution_count": 77,
   "metadata": {
    "ExecuteTime": {
     "end_time": "2020-03-06T04:27:17.014664Z",
     "start_time": "2020-03-06T04:27:16.854073Z"
    }
   },
   "outputs": [
    {
     "data": {
      "text/html": [
       "<div>\n",
       "<style scoped>\n",
       "    .dataframe tbody tr th:only-of-type {\n",
       "        vertical-align: middle;\n",
       "    }\n",
       "\n",
       "    .dataframe tbody tr th {\n",
       "        vertical-align: top;\n",
       "    }\n",
       "\n",
       "    .dataframe thead th {\n",
       "        text-align: right;\n",
       "    }\n",
       "</style>\n",
       "<table border=\"1\" class=\"dataframe\">\n",
       "  <thead>\n",
       "    <tr style=\"text-align: right;\">\n",
       "      <th></th>\n",
       "      <th>user_id</th>\n",
       "      <th>product_id</th>\n",
       "      <th>prod_in_order</th>\n",
       "      <th>orders_since</th>\n",
       "    </tr>\n",
       "  </thead>\n",
       "  <tbody>\n",
       "    <tr>\n",
       "      <th>0</th>\n",
       "      <td>1</td>\n",
       "      <td>196</td>\n",
       "      <td>[1, 1, 1, 1, 1, 1, 1, 1, 1, 1]</td>\n",
       "      <td>0</td>\n",
       "    </tr>\n",
       "    <tr>\n",
       "      <th>1</th>\n",
       "      <td>1</td>\n",
       "      <td>10258</td>\n",
       "      <td>[0, 1, 1, 1, 1, 1, 1, 1, 1, 1]</td>\n",
       "      <td>0</td>\n",
       "    </tr>\n",
       "    <tr>\n",
       "      <th>2</th>\n",
       "      <td>1</td>\n",
       "      <td>10326</td>\n",
       "      <td>[0, 0, 0, 0, 1, 0, 0, 0, 0, 0]</td>\n",
       "      <td>5</td>\n",
       "    </tr>\n",
       "    <tr>\n",
       "      <th>3</th>\n",
       "      <td>1</td>\n",
       "      <td>12427</td>\n",
       "      <td>[1, 1, 1, 1, 1, 1, 1, 1, 1, 1]</td>\n",
       "      <td>0</td>\n",
       "    </tr>\n",
       "    <tr>\n",
       "      <th>4</th>\n",
       "      <td>1</td>\n",
       "      <td>13032</td>\n",
       "      <td>[0, 1, 0, 0, 0, 0, 1, 0, 0, 1]</td>\n",
       "      <td>0</td>\n",
       "    </tr>\n",
       "  </tbody>\n",
       "</table>\n",
       "</div>"
      ],
      "text/plain": [
       "   user_id  product_id                   prod_in_order  orders_since\n",
       "0        1         196  [1, 1, 1, 1, 1, 1, 1, 1, 1, 1]             0\n",
       "1        1       10258  [0, 1, 1, 1, 1, 1, 1, 1, 1, 1]             0\n",
       "2        1       10326  [0, 0, 0, 0, 1, 0, 0, 0, 0, 0]             5\n",
       "3        1       12427  [1, 1, 1, 1, 1, 1, 1, 1, 1, 1]             0\n",
       "4        1       13032  [0, 1, 0, 0, 0, 0, 1, 0, 0, 1]             0"
      ]
     },
     "execution_count": 77,
     "metadata": {},
     "output_type": "execute_result"
    }
   ],
   "source": [
    "# How many order since the product was last ordered by the user\n",
    "df_cart_info['orders_since'] = df_cart_info['prod_in_order'].apply(lambda x: x[::-1].index(1))\n",
    "df_cart_info.head()"
   ]
  },
  {
   "cell_type": "code",
   "execution_count": 78,
   "metadata": {
    "ExecuteTime": {
     "end_time": "2020-03-06T04:27:17.120405Z",
     "start_time": "2020-03-06T04:27:17.016733Z"
    }
   },
   "outputs": [
    {
     "data": {
      "text/html": [
       "<div>\n",
       "<style scoped>\n",
       "    .dataframe tbody tr th:only-of-type {\n",
       "        vertical-align: middle;\n",
       "    }\n",
       "\n",
       "    .dataframe tbody tr th {\n",
       "        vertical-align: top;\n",
       "    }\n",
       "\n",
       "    .dataframe thead th {\n",
       "        text-align: right;\n",
       "    }\n",
       "</style>\n",
       "<table border=\"1\" class=\"dataframe\">\n",
       "  <thead>\n",
       "    <tr style=\"text-align: right;\">\n",
       "      <th></th>\n",
       "      <th>user_id</th>\n",
       "      <th>product_id</th>\n",
       "      <th>TARGET</th>\n",
       "      <th>user_total_prods</th>\n",
       "      <th>user_avg_days_btwn</th>\n",
       "      <th>user_total_orders</th>\n",
       "      <th>user_avg_cartsize</th>\n",
       "      <th>prod_total_orders</th>\n",
       "      <th>prod_avg_cart_pos</th>\n",
       "      <th>prod_avg_hour</th>\n",
       "      <th>prod_avg_day</th>\n",
       "      <th>user_prod_total_orders</th>\n",
       "      <th>user_prod_avg_day</th>\n",
       "      <th>user_prod_avg_time</th>\n",
       "      <th>user_prod_avg_cart_position</th>\n",
       "      <th>orders_since</th>\n",
       "    </tr>\n",
       "  </thead>\n",
       "  <tbody>\n",
       "    <tr>\n",
       "      <th>0</th>\n",
       "      <td>1</td>\n",
       "      <td>196</td>\n",
       "      <td>1</td>\n",
       "      <td>18</td>\n",
       "      <td>20.259259</td>\n",
       "      <td>10</td>\n",
       "      <td>5.900000</td>\n",
       "      <td>533</td>\n",
       "      <td>3.891182</td>\n",
       "      <td>12.707317</td>\n",
       "      <td>2.765478</td>\n",
       "      <td>10</td>\n",
       "      <td>2.500000</td>\n",
       "      <td>10.300000</td>\n",
       "      <td>1.400000</td>\n",
       "      <td>0</td>\n",
       "    </tr>\n",
       "    <tr>\n",
       "      <th>1</th>\n",
       "      <td>21</td>\n",
       "      <td>196</td>\n",
       "      <td>0</td>\n",
       "      <td>102</td>\n",
       "      <td>10.055000</td>\n",
       "      <td>33</td>\n",
       "      <td>6.212121</td>\n",
       "      <td>533</td>\n",
       "      <td>3.891182</td>\n",
       "      <td>12.707317</td>\n",
       "      <td>2.765478</td>\n",
       "      <td>1</td>\n",
       "      <td>3.000000</td>\n",
       "      <td>10.000000</td>\n",
       "      <td>2.000000</td>\n",
       "      <td>23</td>\n",
       "    </tr>\n",
       "    <tr>\n",
       "      <th>2</th>\n",
       "      <td>43</td>\n",
       "      <td>196</td>\n",
       "      <td>0</td>\n",
       "      <td>88</td>\n",
       "      <td>10.549296</td>\n",
       "      <td>11</td>\n",
       "      <td>13.363636</td>\n",
       "      <td>533</td>\n",
       "      <td>3.891182</td>\n",
       "      <td>12.707317</td>\n",
       "      <td>2.765478</td>\n",
       "      <td>2</td>\n",
       "      <td>4.000000</td>\n",
       "      <td>14.000000</td>\n",
       "      <td>5.000000</td>\n",
       "      <td>2</td>\n",
       "    </tr>\n",
       "    <tr>\n",
       "      <th>3</th>\n",
       "      <td>52</td>\n",
       "      <td>196</td>\n",
       "      <td>0</td>\n",
       "      <td>51</td>\n",
       "      <td>9.134969</td>\n",
       "      <td>27</td>\n",
       "      <td>6.259259</td>\n",
       "      <td>533</td>\n",
       "      <td>3.891182</td>\n",
       "      <td>12.707317</td>\n",
       "      <td>2.765478</td>\n",
       "      <td>14</td>\n",
       "      <td>1.928571</td>\n",
       "      <td>10.071429</td>\n",
       "      <td>4.285714</td>\n",
       "      <td>6</td>\n",
       "    </tr>\n",
       "    <tr>\n",
       "      <th>4</th>\n",
       "      <td>67</td>\n",
       "      <td>196</td>\n",
       "      <td>1</td>\n",
       "      <td>23</td>\n",
       "      <td>7.714286</td>\n",
       "      <td>24</td>\n",
       "      <td>3.375000</td>\n",
       "      <td>533</td>\n",
       "      <td>3.891182</td>\n",
       "      <td>12.707317</td>\n",
       "      <td>2.765478</td>\n",
       "      <td>19</td>\n",
       "      <td>1.842105</td>\n",
       "      <td>11.842105</td>\n",
       "      <td>1.421053</td>\n",
       "      <td>1</td>\n",
       "    </tr>\n",
       "  </tbody>\n",
       "</table>\n",
       "</div>"
      ],
      "text/plain": [
       "   user_id  product_id  TARGET  user_total_prods  user_avg_days_btwn  \\\n",
       "0        1         196       1                18           20.259259   \n",
       "1       21         196       0               102           10.055000   \n",
       "2       43         196       0                88           10.549296   \n",
       "3       52         196       0                51            9.134969   \n",
       "4       67         196       1                23            7.714286   \n",
       "\n",
       "   user_total_orders  user_avg_cartsize  prod_total_orders  prod_avg_cart_pos  \\\n",
       "0                 10           5.900000                533           3.891182   \n",
       "1                 33           6.212121                533           3.891182   \n",
       "2                 11          13.363636                533           3.891182   \n",
       "3                 27           6.259259                533           3.891182   \n",
       "4                 24           3.375000                533           3.891182   \n",
       "\n",
       "   prod_avg_hour  prod_avg_day  user_prod_total_orders  user_prod_avg_day  \\\n",
       "0      12.707317      2.765478                      10           2.500000   \n",
       "1      12.707317      2.765478                       1           3.000000   \n",
       "2      12.707317      2.765478                       2           4.000000   \n",
       "3      12.707317      2.765478                      14           1.928571   \n",
       "4      12.707317      2.765478                      19           1.842105   \n",
       "\n",
       "   user_prod_avg_time  user_prod_avg_cart_position  orders_since  \n",
       "0           10.300000                     1.400000             0  \n",
       "1           10.000000                     2.000000            23  \n",
       "2           14.000000                     5.000000             2  \n",
       "3           10.071429                     4.285714             6  \n",
       "4           11.842105                     1.421053             1  "
      ]
     },
     "execution_count": 78,
     "metadata": {},
     "output_type": "execute_result"
    }
   ],
   "source": [
    "# Add the orders_since user_product feature to the dataframe\n",
    "df_ml = (df_ml.merge(df_cart_info.drop(columns = ['prod_in_order']), on = ['user_id','product_id']))\n",
    "\n",
    "df_ml.head()"
   ]
  },
  {
   "cell_type": "markdown",
   "metadata": {},
   "source": [
    "* **(...)**\n",
    "* **Order Frequency**"
   ]
  },
  {
   "cell_type": "code",
   "execution_count": 79,
   "metadata": {
    "ExecuteTime": {
     "end_time": "2020-03-06T04:27:17.127148Z",
     "start_time": "2020-03-06T04:27:17.122379Z"
    }
   },
   "outputs": [],
   "source": [
    "# Divide the total orders with the product by the total orders\n",
    "df_ml['user_prod_order_freq'] = df_ml.user_prod_total_orders / df_ml.user_total_orders"
   ]
  },
  {
   "cell_type": "code",
   "execution_count": 80,
   "metadata": {
    "ExecuteTime": {
     "end_time": "2020-03-06T04:27:17.147363Z",
     "start_time": "2020-03-06T04:27:17.129627Z"
    }
   },
   "outputs": [
    {
     "data": {
      "text/html": [
       "<div>\n",
       "<style scoped>\n",
       "    .dataframe tbody tr th:only-of-type {\n",
       "        vertical-align: middle;\n",
       "    }\n",
       "\n",
       "    .dataframe tbody tr th {\n",
       "        vertical-align: top;\n",
       "    }\n",
       "\n",
       "    .dataframe thead th {\n",
       "        text-align: right;\n",
       "    }\n",
       "</style>\n",
       "<table border=\"1\" class=\"dataframe\">\n",
       "  <thead>\n",
       "    <tr style=\"text-align: right;\">\n",
       "      <th></th>\n",
       "      <th>user_id</th>\n",
       "      <th>product_id</th>\n",
       "      <th>TARGET</th>\n",
       "      <th>user_total_prods</th>\n",
       "      <th>user_avg_days_btwn</th>\n",
       "      <th>user_total_orders</th>\n",
       "      <th>user_avg_cartsize</th>\n",
       "      <th>prod_total_orders</th>\n",
       "      <th>prod_avg_cart_pos</th>\n",
       "      <th>prod_avg_hour</th>\n",
       "      <th>prod_avg_day</th>\n",
       "      <th>user_prod_total_orders</th>\n",
       "      <th>user_prod_avg_day</th>\n",
       "      <th>user_prod_avg_time</th>\n",
       "      <th>user_prod_avg_cart_position</th>\n",
       "      <th>orders_since</th>\n",
       "      <th>user_prod_order_freq</th>\n",
       "    </tr>\n",
       "  </thead>\n",
       "  <tbody>\n",
       "    <tr>\n",
       "      <th>0</th>\n",
       "      <td>1</td>\n",
       "      <td>196</td>\n",
       "      <td>1</td>\n",
       "      <td>18</td>\n",
       "      <td>20.259259</td>\n",
       "      <td>10</td>\n",
       "      <td>5.900000</td>\n",
       "      <td>533</td>\n",
       "      <td>3.891182</td>\n",
       "      <td>12.707317</td>\n",
       "      <td>2.765478</td>\n",
       "      <td>10</td>\n",
       "      <td>2.500000</td>\n",
       "      <td>10.300000</td>\n",
       "      <td>1.400000</td>\n",
       "      <td>0</td>\n",
       "      <td>1.000000</td>\n",
       "    </tr>\n",
       "    <tr>\n",
       "      <th>1</th>\n",
       "      <td>21</td>\n",
       "      <td>196</td>\n",
       "      <td>0</td>\n",
       "      <td>102</td>\n",
       "      <td>10.055000</td>\n",
       "      <td>33</td>\n",
       "      <td>6.212121</td>\n",
       "      <td>533</td>\n",
       "      <td>3.891182</td>\n",
       "      <td>12.707317</td>\n",
       "      <td>2.765478</td>\n",
       "      <td>1</td>\n",
       "      <td>3.000000</td>\n",
       "      <td>10.000000</td>\n",
       "      <td>2.000000</td>\n",
       "      <td>23</td>\n",
       "      <td>0.030303</td>\n",
       "    </tr>\n",
       "    <tr>\n",
       "      <th>2</th>\n",
       "      <td>43</td>\n",
       "      <td>196</td>\n",
       "      <td>0</td>\n",
       "      <td>88</td>\n",
       "      <td>10.549296</td>\n",
       "      <td>11</td>\n",
       "      <td>13.363636</td>\n",
       "      <td>533</td>\n",
       "      <td>3.891182</td>\n",
       "      <td>12.707317</td>\n",
       "      <td>2.765478</td>\n",
       "      <td>2</td>\n",
       "      <td>4.000000</td>\n",
       "      <td>14.000000</td>\n",
       "      <td>5.000000</td>\n",
       "      <td>2</td>\n",
       "      <td>0.181818</td>\n",
       "    </tr>\n",
       "    <tr>\n",
       "      <th>3</th>\n",
       "      <td>52</td>\n",
       "      <td>196</td>\n",
       "      <td>0</td>\n",
       "      <td>51</td>\n",
       "      <td>9.134969</td>\n",
       "      <td>27</td>\n",
       "      <td>6.259259</td>\n",
       "      <td>533</td>\n",
       "      <td>3.891182</td>\n",
       "      <td>12.707317</td>\n",
       "      <td>2.765478</td>\n",
       "      <td>14</td>\n",
       "      <td>1.928571</td>\n",
       "      <td>10.071429</td>\n",
       "      <td>4.285714</td>\n",
       "      <td>6</td>\n",
       "      <td>0.518519</td>\n",
       "    </tr>\n",
       "    <tr>\n",
       "      <th>4</th>\n",
       "      <td>67</td>\n",
       "      <td>196</td>\n",
       "      <td>1</td>\n",
       "      <td>23</td>\n",
       "      <td>7.714286</td>\n",
       "      <td>24</td>\n",
       "      <td>3.375000</td>\n",
       "      <td>533</td>\n",
       "      <td>3.891182</td>\n",
       "      <td>12.707317</td>\n",
       "      <td>2.765478</td>\n",
       "      <td>19</td>\n",
       "      <td>1.842105</td>\n",
       "      <td>11.842105</td>\n",
       "      <td>1.421053</td>\n",
       "      <td>1</td>\n",
       "      <td>0.791667</td>\n",
       "    </tr>\n",
       "  </tbody>\n",
       "</table>\n",
       "</div>"
      ],
      "text/plain": [
       "   user_id  product_id  TARGET  user_total_prods  user_avg_days_btwn  \\\n",
       "0        1         196       1                18           20.259259   \n",
       "1       21         196       0               102           10.055000   \n",
       "2       43         196       0                88           10.549296   \n",
       "3       52         196       0                51            9.134969   \n",
       "4       67         196       1                23            7.714286   \n",
       "\n",
       "   user_total_orders  user_avg_cartsize  prod_total_orders  prod_avg_cart_pos  \\\n",
       "0                 10           5.900000                533           3.891182   \n",
       "1                 33           6.212121                533           3.891182   \n",
       "2                 11          13.363636                533           3.891182   \n",
       "3                 27           6.259259                533           3.891182   \n",
       "4                 24           3.375000                533           3.891182   \n",
       "\n",
       "   prod_avg_hour  prod_avg_day  user_prod_total_orders  user_prod_avg_day  \\\n",
       "0      12.707317      2.765478                      10           2.500000   \n",
       "1      12.707317      2.765478                       1           3.000000   \n",
       "2      12.707317      2.765478                       2           4.000000   \n",
       "3      12.707317      2.765478                      14           1.928571   \n",
       "4      12.707317      2.765478                      19           1.842105   \n",
       "\n",
       "   user_prod_avg_time  user_prod_avg_cart_position  orders_since  \\\n",
       "0           10.300000                     1.400000             0   \n",
       "1           10.000000                     2.000000            23   \n",
       "2           14.000000                     5.000000             2   \n",
       "3           10.071429                     4.285714             6   \n",
       "4           11.842105                     1.421053             1   \n",
       "\n",
       "   user_prod_order_freq  \n",
       "0              1.000000  \n",
       "1              0.030303  \n",
       "2              0.181818  \n",
       "3              0.518519  \n",
       "4              0.791667  "
      ]
     },
     "execution_count": 80,
     "metadata": {},
     "output_type": "execute_result"
    }
   ],
   "source": [
    "df_ml.head()"
   ]
  },
  {
   "cell_type": "markdown",
   "metadata": {},
   "source": [
    "### Packing the Data"
   ]
  },
  {
   "cell_type": "code",
   "execution_count": 81,
   "metadata": {
    "ExecuteTime": {
     "end_time": "2020-03-06T04:27:17.173194Z",
     "start_time": "2020-03-06T04:27:17.149897Z"
    }
   },
   "outputs": [],
   "source": [
    "with open(f'{path}/pickles/df_ml.pkl', 'wb') as file:\n",
    "    pickle.dump(df_ml, file)"
   ]
  }
 ],
 "metadata": {
  "kernelspec": {
   "display_name": "Python 3",
   "language": "python",
   "name": "python3"
  },
  "language_info": {
   "codemirror_mode": {
    "name": "ipython",
    "version": 3
   },
   "file_extension": ".py",
   "mimetype": "text/x-python",
   "name": "python",
   "nbconvert_exporter": "python",
   "pygments_lexer": "ipython3",
   "version": "3.7.3"
  },
  "toc": {
   "base_numbering": 1,
   "nav_menu": {},
   "number_sections": false,
   "sideBar": true,
   "skip_h1_title": false,
   "title_cell": "Table of Contents",
   "title_sidebar": "Contents",
   "toc_cell": false,
   "toc_position": {
    "height": "calc(100% - 180px)",
    "left": "10px",
    "top": "150px",
    "width": "165px"
   },
   "toc_section_display": true,
   "toc_window_display": false
  }
 },
 "nbformat": 4,
 "nbformat_minor": 2
}
